{
 "cells": [
  {
   "cell_type": "code",
   "execution_count": 33,
   "metadata": {
    "collapsed": true
   },
   "outputs": [],
   "source": [
    "import pandas as pd\n",
    "import glob\n",
    "import numpy as np"
   ]
  },
  {
   "cell_type": "code",
   "execution_count": 2,
   "metadata": {
    "collapsed": false
   },
   "outputs": [
    {
     "name": "stdout",
     "output_type": "stream",
     "text": [
      "./Data/BGCON_CUST_DATA.csv\n",
      "./Data/BGCON_CLAIM_DATA.csv\n",
      "./Data/BGCON_FPINFO_DATA.csv\n",
      "./Data/BGCON_FMLY_DATA.csv\n",
      "./Data/BGCON_CNTT_DATA.csv\n"
     ]
    }
   ],
   "source": [
    "file_list = glob.glob('./Data/*.csv')\n",
    "for file_name in file_list:\n",
    "    print(file_name)"
   ]
  },
  {
   "cell_type": "code",
   "execution_count": 3,
   "metadata": {
    "collapsed": true
   },
   "outputs": [],
   "source": [
    "# read BGCON_CUST_DATA.csv ( 고객정보 )\n",
    "customer_df = pd.read_csv(file_list[0], encoding='utf-16')\n",
    "\n",
    "# read BGCON_CLAIM_DATA.csv ( 지급정보 )\n",
    "claim_df = pd.read_csv(file_list[1], encoding='utf-16')\n",
    "\n",
    "# read BGCON_FPINFO_DATA.csv ( 설계사정보 )\n",
    "fpinfo_df = pd.read_csv(file_list[2], encoding='utf-16')\n",
    "\n",
    "# read BGCON_FMLY_DATA.csv ( 가족정보 )\n",
    "family_df = pd.read_csv(file_list[3], encoding='utf-16')\n",
    "\n",
    "# read BGCON_CNTT_DATA.csv ( 계약정보 )\n",
    "contract_df = pd.read_csv(file_list[4], encoding='utf-16')"
   ]
  },
  {
   "cell_type": "code",
   "execution_count": 4,
   "metadata": {
    "collapsed": true
   },
   "outputs": [],
   "source": [
    "# < WORKFLOW >\n",
    "# Join : cust + cntt (on CUST_ID)\n",
    "# Join : cntt + claim (on POLY_NO)\n",
    "# Join : cntt + fpinfo (on CLLT_FP_PRNO)\n",
    "# Create Feature : fmly (ex == 0 or 1 + 관계코드)"
   ]
  },
  {
   "cell_type": "code",
   "execution_count": 5,
   "metadata": {
    "collapsed": true
   },
   "outputs": [],
   "source": [
    "# Suggestion : 변수들의 조합으로 라는 말은 즉 새로운 feature를 만들어라.\n",
    "#            : 외부데이터를 연계하여 활용해보아라 ( 예를 들어, 지도 api를 활용할 수 있지않을까? )\n",
    "\n",
    "# Next Step \n",
    "# 먼저, Nan 을 어떻게 처리할 것인지? ( drop or interpolation )\n",
    "# 어떤 알고리즘을 이용하여 예측할것인지 ( SVM ...? )"
   ]
  },
  {
   "cell_type": "code",
   "execution_count": 6,
   "metadata": {
    "collapsed": false
   },
   "outputs": [],
   "source": [
    "# Join : cust + cntt (on CUST_ID)\n",
    "merged_df0 = pd.merge(customer_df, contract_df, on='CUST_ID')\n",
    "\n",
    "# Join : cntt + claim (on POLY_NO)\n",
    "merged_df1 = pd.merge(merged_df0, claim_df, on='POLY_NO')\n",
    "\n",
    "# Join : cntt + fpinfo (on CLLT_FP_PRNO)\n",
    "merged_df2 = pd.merge(merged_df1, fpinfo_df, on = 'CLLT_FP_PRNO')"
   ]
  },
  {
   "cell_type": "code",
   "execution_count": 7,
   "metadata": {
    "collapsed": false
   },
   "outputs": [
    {
     "data": {
      "text/html": [
       "<div>\n",
       "<table border=\"1\" class=\"dataframe\">\n",
       "  <thead>\n",
       "    <tr style=\"text-align: right;\">\n",
       "      <th></th>\n",
       "      <th>CUST_ID_x</th>\n",
       "      <th>DIVIDED_SET</th>\n",
       "      <th>SIU_CUST_YN</th>\n",
       "      <th>SEX</th>\n",
       "      <th>AGE</th>\n",
       "      <th>RESI_COST</th>\n",
       "      <th>RESI_TYPE_CODE</th>\n",
       "      <th>FP_CAREER</th>\n",
       "      <th>CUST_RGST</th>\n",
       "      <th>CTPR</th>\n",
       "      <th>...</th>\n",
       "      <th>COUNT_TRMT_ITEM</th>\n",
       "      <th>DCAF_CMPS_XCPA</th>\n",
       "      <th>NON_PAY_RATIO</th>\n",
       "      <th>HEED_HOSP_YN</th>\n",
       "      <th>INCB_DVSN</th>\n",
       "      <th>ETRS_YM</th>\n",
       "      <th>FIRE_YM</th>\n",
       "      <th>BEFO_JOB</th>\n",
       "      <th>EDGB</th>\n",
       "      <th>BRCH_CODE</th>\n",
       "    </tr>\n",
       "  </thead>\n",
       "  <tbody>\n",
       "    <tr>\n",
       "      <th>119987</th>\n",
       "      <td>21483</td>\n",
       "      <td>1</td>\n",
       "      <td>N</td>\n",
       "      <td>2</td>\n",
       "      <td>30</td>\n",
       "      <td>31944</td>\n",
       "      <td>20</td>\n",
       "      <td>N</td>\n",
       "      <td>200306</td>\n",
       "      <td>경기</td>\n",
       "      <td>...</td>\n",
       "      <td>NaN</td>\n",
       "      <td>NaN</td>\n",
       "      <td>0</td>\n",
       "      <td>N</td>\n",
       "      <td>P</td>\n",
       "      <td>199711</td>\n",
       "      <td>999912</td>\n",
       "      <td>무직</td>\n",
       "      <td>대학졸</td>\n",
       "      <td>78</td>\n",
       "    </tr>\n",
       "    <tr>\n",
       "      <th>119988</th>\n",
       "      <td>20356</td>\n",
       "      <td>1</td>\n",
       "      <td>N</td>\n",
       "      <td>1</td>\n",
       "      <td>15</td>\n",
       "      <td>27777</td>\n",
       "      <td>20</td>\n",
       "      <td>N</td>\n",
       "      <td>200306</td>\n",
       "      <td>경기</td>\n",
       "      <td>...</td>\n",
       "      <td>NaN</td>\n",
       "      <td>NaN</td>\n",
       "      <td>0</td>\n",
       "      <td>N</td>\n",
       "      <td>R</td>\n",
       "      <td>200006</td>\n",
       "      <td>200403</td>\n",
       "      <td>무직</td>\n",
       "      <td>고졸</td>\n",
       "      <td>120</td>\n",
       "    </tr>\n",
       "    <tr>\n",
       "      <th>119989</th>\n",
       "      <td>20356</td>\n",
       "      <td>1</td>\n",
       "      <td>N</td>\n",
       "      <td>1</td>\n",
       "      <td>15</td>\n",
       "      <td>27777</td>\n",
       "      <td>20</td>\n",
       "      <td>N</td>\n",
       "      <td>200306</td>\n",
       "      <td>경기</td>\n",
       "      <td>...</td>\n",
       "      <td>NaN</td>\n",
       "      <td>NaN</td>\n",
       "      <td>0</td>\n",
       "      <td>N</td>\n",
       "      <td>R</td>\n",
       "      <td>200006</td>\n",
       "      <td>200403</td>\n",
       "      <td>무직</td>\n",
       "      <td>고졸</td>\n",
       "      <td>120</td>\n",
       "    </tr>\n",
       "    <tr>\n",
       "      <th>119990</th>\n",
       "      <td>17118</td>\n",
       "      <td>1</td>\n",
       "      <td>N</td>\n",
       "      <td>2</td>\n",
       "      <td>18</td>\n",
       "      <td>21527</td>\n",
       "      <td>20</td>\n",
       "      <td>N</td>\n",
       "      <td>200306</td>\n",
       "      <td>경기</td>\n",
       "      <td>...</td>\n",
       "      <td>NaN</td>\n",
       "      <td>NaN</td>\n",
       "      <td>0</td>\n",
       "      <td>N</td>\n",
       "      <td>R</td>\n",
       "      <td>198108</td>\n",
       "      <td>200206</td>\n",
       "      <td>기타</td>\n",
       "      <td>고졸</td>\n",
       "      <td>19</td>\n",
       "    </tr>\n",
       "    <tr>\n",
       "      <th>119991</th>\n",
       "      <td>17118</td>\n",
       "      <td>1</td>\n",
       "      <td>N</td>\n",
       "      <td>2</td>\n",
       "      <td>18</td>\n",
       "      <td>21527</td>\n",
       "      <td>20</td>\n",
       "      <td>N</td>\n",
       "      <td>200306</td>\n",
       "      <td>경기</td>\n",
       "      <td>...</td>\n",
       "      <td>NaN</td>\n",
       "      <td>NaN</td>\n",
       "      <td>0</td>\n",
       "      <td>N</td>\n",
       "      <td>R</td>\n",
       "      <td>198108</td>\n",
       "      <td>200206</td>\n",
       "      <td>기타</td>\n",
       "      <td>고졸</td>\n",
       "      <td>19</td>\n",
       "    </tr>\n",
       "  </tbody>\n",
       "</table>\n",
       "<p>5 rows × 89 columns</p>\n",
       "</div>"
      ],
      "text/plain": [
       "        CUST_ID_x  DIVIDED_SET SIU_CUST_YN  SEX  AGE  RESI_COST  \\\n",
       "119987      21483            1           N    2   30      31944   \n",
       "119988      20356            1           N    1   15      27777   \n",
       "119989      20356            1           N    1   15      27777   \n",
       "119990      17118            1           N    2   18      21527   \n",
       "119991      17118            1           N    2   18      21527   \n",
       "\n",
       "        RESI_TYPE_CODE FP_CAREER  CUST_RGST CTPR    ...     COUNT_TRMT_ITEM  \\\n",
       "119987              20         N     200306   경기    ...                 NaN   \n",
       "119988              20         N     200306   경기    ...                 NaN   \n",
       "119989              20         N     200306   경기    ...                 NaN   \n",
       "119990              20         N     200306   경기    ...                 NaN   \n",
       "119991              20         N     200306   경기    ...                 NaN   \n",
       "\n",
       "       DCAF_CMPS_XCPA  NON_PAY_RATIO  HEED_HOSP_YN  INCB_DVSN ETRS_YM FIRE_YM  \\\n",
       "119987            NaN              0             N          P  199711  999912   \n",
       "119988            NaN              0             N          R  200006  200403   \n",
       "119989            NaN              0             N          R  200006  200403   \n",
       "119990            NaN              0             N          R  198108  200206   \n",
       "119991            NaN              0             N          R  198108  200206   \n",
       "\n",
       "       BEFO_JOB  EDGB  BRCH_CODE  \n",
       "119987       무직   대학졸         78  \n",
       "119988       무직    고졸        120  \n",
       "119989       무직    고졸        120  \n",
       "119990       기타    고졸         19  \n",
       "119991       기타    고졸         19  \n",
       "\n",
       "[5 rows x 89 columns]"
      ]
     },
     "execution_count": 7,
     "metadata": {},
     "output_type": "execute_result"
    }
   ],
   "source": [
    "merged_df2.tail()"
   ]
  },
  {
   "cell_type": "markdown",
   "metadata": {},
   "source": [
    "## Merge Family df ==> #Not complete"
   ]
  },
  {
   "cell_type": "code",
   "execution_count": 27,
   "metadata": {
    "collapsed": false
   },
   "outputs": [
    {
     "data": {
      "text/plain": [
       "(376,)"
      ]
     },
     "execution_count": 27,
     "metadata": {},
     "output_type": "execute_result"
    }
   ],
   "source": [
    "family_df['CUST_ID'].unique().shape"
   ]
  },
  {
   "cell_type": "code",
   "execution_count": 99,
   "metadata": {
    "collapsed": false
   },
   "outputs": [
    {
     "data": {
      "text/html": [
       "<div>\n",
       "<table border=\"1\" class=\"dataframe\">\n",
       "  <thead>\n",
       "    <tr style=\"text-align: right;\">\n",
       "      <th></th>\n",
       "      <th>CUST_ID</th>\n",
       "      <th>SUB_CUST_ID</th>\n",
       "      <th>FMLY_RELN_CODE</th>\n",
       "    </tr>\n",
       "  </thead>\n",
       "  <tbody>\n",
       "    <tr>\n",
       "      <th>11</th>\n",
       "      <td>9790</td>\n",
       "      <td>19390</td>\n",
       "      <td>14</td>\n",
       "    </tr>\n",
       "    <tr>\n",
       "      <th>88</th>\n",
       "      <td>9790</td>\n",
       "      <td>19317</td>\n",
       "      <td>14</td>\n",
       "    </tr>\n",
       "    <tr>\n",
       "      <th>220</th>\n",
       "      <td>9790</td>\n",
       "      <td>10857</td>\n",
       "      <td>14</td>\n",
       "    </tr>\n",
       "    <tr>\n",
       "      <th>294</th>\n",
       "      <td>9790</td>\n",
       "      <td>12957</td>\n",
       "      <td>17</td>\n",
       "    </tr>\n",
       "  </tbody>\n",
       "</table>\n",
       "</div>"
      ],
      "text/plain": [
       "     CUST_ID  SUB_CUST_ID  FMLY_RELN_CODE\n",
       "11      9790        19390              14\n",
       "88      9790        19317              14\n",
       "220     9790        10857              14\n",
       "294     9790        12957              17"
      ]
     },
     "execution_count": 99,
     "metadata": {},
     "output_type": "execute_result"
    }
   ],
   "source": [
    "is_cus = family_df['CUST_ID'] == 9790\n",
    "family_df[is_cus]"
   ]
  },
  {
   "cell_type": "code",
   "execution_count": 85,
   "metadata": {
    "collapsed": false
   },
   "outputs": [
    {
     "data": {
      "text/html": [
       "<div>\n",
       "<table border=\"1\" class=\"dataframe\">\n",
       "  <thead>\n",
       "    <tr style=\"text-align: right;\">\n",
       "      <th></th>\n",
       "      <th>CUST_ID</th>\n",
       "      <th>SUB_CUST_ID</th>\n",
       "      <th>FMLY_RELN_CODE</th>\n",
       "    </tr>\n",
       "  </thead>\n",
       "  <tbody>\n",
       "    <tr>\n",
       "      <th>123</th>\n",
       "      <td>12957</td>\n",
       "      <td>9790</td>\n",
       "      <td>17</td>\n",
       "    </tr>\n",
       "    <tr>\n",
       "      <th>174</th>\n",
       "      <td>10857</td>\n",
       "      <td>9790</td>\n",
       "      <td>13</td>\n",
       "    </tr>\n",
       "    <tr>\n",
       "      <th>233</th>\n",
       "      <td>19317</td>\n",
       "      <td>9790</td>\n",
       "      <td>13</td>\n",
       "    </tr>\n",
       "    <tr>\n",
       "      <th>399</th>\n",
       "      <td>19390</td>\n",
       "      <td>9790</td>\n",
       "      <td>13</td>\n",
       "    </tr>\n",
       "  </tbody>\n",
       "</table>\n",
       "</div>"
      ],
      "text/plain": [
       "     CUST_ID  SUB_CUST_ID  FMLY_RELN_CODE\n",
       "123    12957         9790              17\n",
       "174    10857         9790              13\n",
       "233    19317         9790              13\n",
       "399    19390         9790              13"
      ]
     },
     "execution_count": 85,
     "metadata": {},
     "output_type": "execute_result"
    }
   ],
   "source": [
    "is_sub = family_df['SUB_CUST_ID'] == 9790\n",
    "family_df[is_sub]"
   ]
  },
  {
   "cell_type": "code",
   "execution_count": 92,
   "metadata": {
    "collapsed": true
   },
   "outputs": [],
   "source": [
    "# 지금하려는것 family_df 에 있는 value 를 새로운 column으로 추가 시키기 ==> family_df join 문제 해결\n",
    "# 본인(11) 은 family_df에 아무도 없음 ==> 가족관계가 명시되어 있지 않은 사람은 11\n",
    "# 가족 수 추가...? 아무도없음(0) / 1명 / 2명 \n",
    "# 의문점 : 6191 처럼 가족이 두명인 애들이 있으므로 가족수를 추가해야할까? \n",
    "# 아니면, 11 / 14 / 13 /  +  0 / 2 / 2 ( 본인제외 가족 수 )\n",
    "# 의문점 : 각 고객 마다 관계코드가 다른데 그걸 표현할수 있는 방법은...?\n",
    "# ==> 그냥 함께 가입된 가족수만을 기입하는것은 쉬울듯하다... \n",
    "# ==> 그렇지만 만약 다른 테이블에 가족번호가 필요한 경우가 있다면, 즉 어느가족그룹인지 고객끼리 어떤 관계에 있는지가 필요하다면...?\n",
    "# 음.. 가족수 + 가족마다의 그룹 별 번호를 새로 지정하여 ... 피쳐로 적용한다면...?\n",
    "# ex) 가족유무 0 or 1 + 가족그룹번호 0~N + 가족수 0~5"
   ]
  },
  {
   "cell_type": "code",
   "execution_count": 38,
   "metadata": {
    "collapsed": true
   },
   "outputs": [],
   "source": [
    "# family df 에 id가 있으면 fmly_reln_code 를 추가 하고, 가족수를 체크하여 표기함.\n",
    "# 그렇지 않으면 본인(11) 으로 추가, 가족수도 0으로 표기함. == filna에서 처리해줘도 될듯함."
   ]
  },
  {
   "cell_type": "code",
   "execution_count": 89,
   "metadata": {
    "collapsed": false
   },
   "outputs": [],
   "source": [
    "customers_having_family = family_df['CUST_ID'].unique()"
   ]
  },
  {
   "cell_type": "code",
   "execution_count": 90,
   "metadata": {
    "collapsed": false
   },
   "outputs": [
    {
     "data": {
      "text/plain": [
       "([14, 14, 14, 17], 4)"
      ]
     },
     "execution_count": 90,
     "metadata": {},
     "output_type": "execute_result"
    }
   ],
   "source": [
    "is_cus = family_df['CUST_ID'] == 9790\n",
    "relevant_code = family_df[is_cus]['FMLY_RELN_CODE'].tolist()\n",
    "numbers_of_family = len(family_df[is_cus]['FMLY_RELN_CODE'])\n",
    "\n",
    "relevant_code, numbers_of_family"
   ]
  },
  {
   "cell_type": "code",
   "execution_count": 160,
   "metadata": {
    "collapsed": false
   },
   "outputs": [],
   "source": [
    "# for customer in customers_having_family:\n",
    "#     is_cus = family_df['CUST_ID'] == customer\n",
    "#     relevant_code = family_df[is_cus]['FMLY_RELN_CODE'].tolist()[0]\n",
    "#     numbers_of_family = len(family_df[is_cus]['FMLY_RELN_CODE'])\n",
    "\n",
    "#     print(relevant_code, numbers_of_family)"
   ]
  },
  {
   "cell_type": "code",
   "execution_count": null,
   "metadata": {
    "collapsed": true
   },
   "outputs": [],
   "source": []
  }
 ],
 "metadata": {
  "kernelspec": {
   "display_name": "Python 3",
   "language": "python",
   "name": "python3"
  },
  "language_info": {
   "codemirror_mode": {
    "name": "ipython",
    "version": 3
   },
   "file_extension": ".py",
   "mimetype": "text/x-python",
   "name": "python",
   "nbconvert_exporter": "python",
   "pygments_lexer": "ipython3",
   "version": "3.5.1+"
  }
 },
 "nbformat": 4,
 "nbformat_minor": 0
}
