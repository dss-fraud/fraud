{
 "cells": [
  {
   "cell_type": "markdown",
   "metadata": {},
   "source": [
    "# CUST_DATA"
   ]
  },
  {
   "cell_type": "code",
   "execution_count": 1,
   "metadata": {
    "collapsed": true
   },
   "outputs": [],
   "source": [
    "# Import packages\n",
    "import pandas as pd\n",
    "import numpy as np"
   ]
  },
  {
   "cell_type": "code",
   "execution_count": 2,
   "metadata": {
    "collapsed": true
   },
   "outputs": [],
   "source": [
    "# Load data\n",
    "customer_df = pd.read_csv('./Data/BGCON_CUST_DATA.csv', encoding='utf-16')"
   ]
  },
  {
   "cell_type": "markdown",
   "metadata": {},
   "source": [
    "## Nan 처리"
   ]
  },
  {
   "cell_type": "code",
   "execution_count": 3,
   "metadata": {
    "collapsed": false
   },
   "outputs": [
    {
     "data": {
      "text/plain": [
       "CUST_ID                 0\n",
       "DIVIDED_SET             0\n",
       "SIU_CUST_YN          1793\n",
       "SEX                     0\n",
       "AGE                     0\n",
       "RESI_COST               0\n",
       "RESI_TYPE_CODE       1254\n",
       "FP_CAREER               0\n",
       "CUST_RGST             456\n",
       "CTPR                  621\n",
       "OCCP_GRP_1            595\n",
       "OCCP_GRP_2            595\n",
       "TOTALPREM            5791\n",
       "MINCRDT              9476\n",
       "MAXCRDT              9476\n",
       "WEDD_YN               473\n",
       "MATE_OCCP_GRP_1     11827\n",
       "MATE_OCCP_GRP_2     11827\n",
       "CHLD_CNT              473\n",
       "LTBN_CHLD_AGE         473\n",
       "MAX_PAYM_YM          6486\n",
       "MAX_PRM              6486\n",
       "CUST_INCM            5263\n",
       "RCBASE_HSHD_INCM        0\n",
       "JPBASE_HSHD_INCM      680\n",
       "dtype: int64"
      ]
     },
     "execution_count": 3,
     "metadata": {},
     "output_type": "execute_result"
    }
   ],
   "source": [
    "# 데이터 탐색\n",
    "len(customer_df) - customer_df.count()"
   ]
  },
  {
   "cell_type": "markdown",
   "metadata": {},
   "source": [
    "### RESI_TYPE_CODE ( 주택유형 ) ==> 10 (주택없음)"
   ]
  },
  {
   "cell_type": "code",
   "execution_count": 4,
   "metadata": {
    "collapsed": false
   },
   "outputs": [
    {
     "data": {
      "text/plain": [
       "array([ 20.,  nan,  40.,  99.,  30.,  50.,  12.,  11.,  13.,  60.,  70.])"
      ]
     },
     "execution_count": 4,
     "metadata": {},
     "output_type": "execute_result"
    }
   ],
   "source": [
    "customer_df['RESI_TYPE_CODE'].unique()"
   ]
  },
  {
   "cell_type": "code",
   "execution_count": 5,
   "metadata": {
    "collapsed": true
   },
   "outputs": [],
   "source": [
    "customer_df['RESI_TYPE_CODE'].fillna(value=10, inplace=True)"
   ]
  },
  {
   "cell_type": "markdown",
   "metadata": {},
   "source": [
    "### CUST_RGST ( 고객등록일 ) ==> 999999 (yyyymm)"
   ]
  },
  {
   "cell_type": "code",
   "execution_count": 6,
   "metadata": {
    "collapsed": true
   },
   "outputs": [],
   "source": [
    "customer_df['CUST_RGST'].fillna(value=999999, inplace=True)"
   ]
  },
  {
   "cell_type": "markdown",
   "metadata": {},
   "source": [
    "### CTPR ( 시도구분 ) ==> 알수없음"
   ]
  },
  {
   "cell_type": "code",
   "execution_count": 7,
   "metadata": {
    "collapsed": true
   },
   "outputs": [],
   "source": [
    "customer_df['CTPR'].fillna(value='알수없음', inplace=True)"
   ]
  },
  {
   "cell_type": "markdown",
   "metadata": {},
   "source": [
    "### OCCP_GRP_1 / OCCP_GRP_2 ( 직업분류코드 ) ==> 9. 알수없음 / 알수없음"
   ]
  },
  {
   "cell_type": "code",
   "execution_count": 8,
   "metadata": {
    "collapsed": true
   },
   "outputs": [],
   "source": [
    "customer_df['OCCP_GRP_1'].fillna(value='9.알수없음', inplace=True)"
   ]
  },
  {
   "cell_type": "code",
   "execution_count": 9,
   "metadata": {
    "collapsed": true
   },
   "outputs": [],
   "source": [
    "customer_df['OCCP_GRP_2'].fillna(value='알수없음', inplace=True)"
   ]
  },
  {
   "cell_type": "markdown",
   "metadata": {},
   "source": [
    "### ***완료안됨 TOTALPREM ( 납입총보험료 ) ==> 합계보험료 x 계약 누적달"
   ]
  },
  {
   "cell_type": "code",
   "execution_count": 4,
   "metadata": {
    "collapsed": true
   },
   "outputs": [],
   "source": [
    "contract_df = pd.read_csv('./Data/BGCON_CNTT_DATA.csv', encoding='utf-16')\n",
    "\n",
    "merged_df = customer_df.merge(contract_df, on='CUST_ID')"
   ]
  },
  {
   "cell_type": "code",
   "execution_count": 5,
   "metadata": {
    "collapsed": true
   },
   "outputs": [],
   "source": [
    "# get preprocessed ym\n",
    "merged_df['preprocessed_ym'] = merged_df['CNTT_YM'].apply(lambda x: str(x)[0:4] + \"-\" + str(x)[4:6])"
   ]
  },
  {
   "cell_type": "code",
   "execution_count": 6,
   "metadata": {
    "collapsed": true
   },
   "outputs": [],
   "source": [
    "# define monthdelta function\n",
    "from calendar import monthrange\n",
    "from datetime import datetime, timedelta\n",
    "\n",
    "def monthdelta(d1, d2 = datetime.strptime(str('2016-08'), '%Y-%m')):\n",
    "    delta = 0\n",
    "    while True:\n",
    "        mdays = monthrange(d1.year, d1.month)[1]\n",
    "        d1 += timedelta(days=mdays)\n",
    "        if d1 <= d2:\n",
    "            delta += 1\n",
    "        else:\n",
    "            break\n",
    "    return delta"
   ]
  },
  {
   "cell_type": "code",
   "execution_count": 7,
   "metadata": {
    "collapsed": false
   },
   "outputs": [],
   "source": [
    "merged_df['TOTAL_MONTHS'] = merged_df['preprocessed_ym'].apply(lambda x: monthdelta(d1 = datetime.strptime(x, '%Y-%m')))"
   ]
  },
  {
   "cell_type": "code",
   "execution_count": 8,
   "metadata": {
    "collapsed": false
   },
   "outputs": [],
   "source": [
    "merged_df['expecting_total_premium'] = merged_df['TOTAL_MONTHS'] * merged_df['SUM_ORIG_PREM']"
   ]
  },
  {
   "cell_type": "code",
   "execution_count": 24,
   "metadata": {
    "collapsed": false
   },
   "outputs": [
    {
     "data": {
      "text/plain": [
       "SUM_ORIG_PREM                20000000\n",
       "expecting_total_premium    3880000000\n",
       "Name: 6, dtype: float64"
      ]
     },
     "execution_count": 24,
     "metadata": {},
     "output_type": "execute_result"
    }
   ],
   "source": [
    "merged_df[['SUM_ORIG_PREM', 'expecting_total_premium']].loc[6]"
   ]
  },
  {
   "cell_type": "code",
   "execution_count": 15,
   "metadata": {
    "collapsed": true
   },
   "outputs": [],
   "source": [
    "customer_df['TOTALPREM'].fillna(value=0, inplace=True)"
   ]
  },
  {
   "cell_type": "markdown",
   "metadata": {},
   "source": [
    "### MINCRDT / MAXCRDT ( 신용등급 ) ==> 6"
   ]
  },
  {
   "cell_type": "code",
   "execution_count": 16,
   "metadata": {
    "collapsed": true
   },
   "outputs": [],
   "source": [
    "customer_df['MINCRDT'].fillna(value=6, inplace=True)\n",
    "customer_df['MINCRDT'].replace(28, 6, inplace=True)\n",
    "customer_df['MINCRDT'].replace(99, 6, inplace=True)"
   ]
  },
  {
   "cell_type": "code",
   "execution_count": 17,
   "metadata": {
    "collapsed": true
   },
   "outputs": [],
   "source": [
    "customer_df['MAXCRDT'].fillna(value=6, inplace=True)\n",
    "customer_df['MAXCRDT'].replace(28, 6, inplace=True)\n",
    "customer_df['MAXCRDT'].replace(99, 6, inplace=True)"
   ]
  },
  {
   "cell_type": "markdown",
   "metadata": {},
   "source": [
    "### WEDD_YN ( 결혼여부 ) ==> 알수없음"
   ]
  },
  {
   "cell_type": "code",
   "execution_count": 18,
   "metadata": {
    "collapsed": true
   },
   "outputs": [],
   "source": [
    "customer_df['WEDD_YN'].fillna(value='알수없음', inplace=True)"
   ]
  },
  {
   "cell_type": "markdown",
   "metadata": {},
   "source": [
    "### MATE_OCCP_GRP_1 / MATE_OCCP_GRP_2 ( 배우자직업코드 )\n",
    "* 결혼여부가 Y or 알수없음 인 경우, ==> 9.알수없음 / 알수없음\n",
    "* 결혼여부가 N 인 경우, ==> 10.배우자없음 / 배우자없음"
   ]
  },
  {
   "cell_type": "code",
   "execution_count": 19,
   "metadata": {
    "collapsed": false
   },
   "outputs": [
    {
     "name": "stderr",
     "output_type": "stream",
     "text": [
      "/usr/local/lib/python3.5/dist-packages/ipykernel/__main__.py:8: SettingWithCopyWarning: \n",
      "A value is trying to be set on a copy of a slice from a DataFrame\n",
      "\n",
      "See the caveats in the documentation: http://pandas.pydata.org/pandas-docs/stable/indexing.html#indexing-view-versus-copy\n",
      "/usr/local/lib/python3.5/dist-packages/ipykernel/__main__.py:9: SettingWithCopyWarning: \n",
      "A value is trying to be set on a copy of a slice from a DataFrame\n",
      "\n",
      "See the caveats in the documentation: http://pandas.pydata.org/pandas-docs/stable/indexing.html#indexing-view-versus-copy\n"
     ]
    }
   ],
   "source": [
    "is_null = np.array(customer_df['MATE_OCCP_GRP_1'].isnull())\n",
    "is_wedd = np.array(customer_df['WEDD_YN'] == 'Y')\n",
    "\n",
    "\n",
    "wedd = np.bitwise_and(is_null, is_wedd)\n",
    "not_wedd = np.bitwise_and(is_null, ~is_wedd)\n",
    "\n",
    "customer_df['MATE_OCCP_GRP_1'][wedd] = \"9.알수없음\"\n",
    "customer_df['MATE_OCCP_GRP_1'][not_wedd] = \"10.배우자없음\""
   ]
  },
  {
   "cell_type": "code",
   "execution_count": 20,
   "metadata": {
    "collapsed": false
   },
   "outputs": [
    {
     "name": "stderr",
     "output_type": "stream",
     "text": [
      "/usr/local/lib/python3.5/dist-packages/ipykernel/__main__.py:6: SettingWithCopyWarning: \n",
      "A value is trying to be set on a copy of a slice from a DataFrame\n",
      "\n",
      "See the caveats in the documentation: http://pandas.pydata.org/pandas-docs/stable/indexing.html#indexing-view-versus-copy\n"
     ]
    }
   ],
   "source": [
    "is_unknown_wedd = np.array(customer_df['WEDD_YN'] == '알수없음')\n",
    "is_not_having_wife = np.array(customer_df['MATE_OCCP_GRP_1'] == '10.배우자없음')\n",
    "\n",
    "unknown_wedd = np.bitwise_and(is_unknown_wedd, is_not_having_wife)\n",
    "\n",
    "customer_df['MATE_OCCP_GRP_1'][unknown_wedd] = '9.알수없음'"
   ]
  },
  {
   "cell_type": "code",
   "execution_count": 21,
   "metadata": {
    "collapsed": false
   },
   "outputs": [
    {
     "name": "stderr",
     "output_type": "stream",
     "text": [
      "/usr/local/lib/python3.5/dist-packages/ipykernel/__main__.py:7: SettingWithCopyWarning: \n",
      "A value is trying to be set on a copy of a slice from a DataFrame\n",
      "\n",
      "See the caveats in the documentation: http://pandas.pydata.org/pandas-docs/stable/indexing.html#indexing-view-versus-copy\n",
      "/usr/local/lib/python3.5/dist-packages/ipykernel/__main__.py:8: SettingWithCopyWarning: \n",
      "A value is trying to be set on a copy of a slice from a DataFrame\n",
      "\n",
      "See the caveats in the documentation: http://pandas.pydata.org/pandas-docs/stable/indexing.html#indexing-view-versus-copy\n"
     ]
    }
   ],
   "source": [
    "is_null = np.array(customer_df['MATE_OCCP_GRP_2'].isnull())\n",
    "is_wedd = np.array(customer_df['WEDD_YN'] == 'Y')\n",
    "\n",
    "wedd = np.bitwise_and(is_null, is_wedd)\n",
    "not_wedd = np.bitwise_and(is_null, ~is_wedd)\n",
    "\n",
    "customer_df['MATE_OCCP_GRP_2'][wedd] = \"알수없음\"\n",
    "customer_df['MATE_OCCP_GRP_2'][not_wedd] = \"배우자없음\""
   ]
  },
  {
   "cell_type": "code",
   "execution_count": 22,
   "metadata": {
    "collapsed": false
   },
   "outputs": [
    {
     "name": "stderr",
     "output_type": "stream",
     "text": [
      "/usr/local/lib/python3.5/dist-packages/ipykernel/__main__.py:6: SettingWithCopyWarning: \n",
      "A value is trying to be set on a copy of a slice from a DataFrame\n",
      "\n",
      "See the caveats in the documentation: http://pandas.pydata.org/pandas-docs/stable/indexing.html#indexing-view-versus-copy\n"
     ]
    }
   ],
   "source": [
    "is_unknown_wedd = np.array(customer_df['WEDD_YN'] == '알수없음')\n",
    "is_not_having_wife = np.array(customer_df['MATE_OCCP_GRP_2'] == '배우자없음')\n",
    "\n",
    "unknown_wedd = np.bitwise_and(is_unknown_wedd, is_not_having_wife)\n",
    "\n",
    "customer_df['MATE_OCCP_GRP_2'][unknown_wedd] = '알수없음'"
   ]
  },
  {
   "cell_type": "markdown",
   "metadata": {},
   "source": [
    "### CHLD_CNT / LTBN_CHLD_AGE ( 자녀수 / 막내자녀연령 ) ==> 0"
   ]
  },
  {
   "cell_type": "code",
   "execution_count": 23,
   "metadata": {
    "collapsed": false
   },
   "outputs": [
    {
     "name": "stderr",
     "output_type": "stream",
     "text": [
      "/usr/local/lib/python3.5/dist-packages/ipykernel/__main__.py:6: SettingWithCopyWarning: \n",
      "A value is trying to be set on a copy of a slice from a DataFrame\n",
      "\n",
      "See the caveats in the documentation: http://pandas.pydata.org/pandas-docs/stable/indexing.html#indexing-view-versus-copy\n"
     ]
    }
   ],
   "source": [
    "is_null = np.array(customer_df['CHLD_CNT'].isnull())\n",
    "is_wedd = np.array(customer_df['WEDD_YN'] == 'Y')\n",
    "\n",
    "unknown_wedd_and_not_wedd = np.bitwise_and(is_null, ~is_wedd)\n",
    "\n",
    "customer_df['CHLD_CNT'][unknown_wedd_and_not_wedd] = 0"
   ]
  },
  {
   "cell_type": "code",
   "execution_count": 24,
   "metadata": {
    "collapsed": false
   },
   "outputs": [
    {
     "name": "stderr",
     "output_type": "stream",
     "text": [
      "/usr/local/lib/python3.5/dist-packages/ipykernel/__main__.py:6: SettingWithCopyWarning: \n",
      "A value is trying to be set on a copy of a slice from a DataFrame\n",
      "\n",
      "See the caveats in the documentation: http://pandas.pydata.org/pandas-docs/stable/indexing.html#indexing-view-versus-copy\n"
     ]
    }
   ],
   "source": [
    "is_null = np.array(customer_df['LTBN_CHLD_AGE'].isnull())\n",
    "is_wedd = np.array(customer_df['WEDD_YN'] == 'Y')\n",
    "\n",
    "unknown_wedd_and_not_wedd = np.bitwise_and(is_null, ~is_wedd)\n",
    "\n",
    "customer_df['LTBN_CHLD_AGE'][unknown_wedd_and_not_wedd] = 0"
   ]
  },
  {
   "cell_type": "markdown",
   "metadata": {
    "collapsed": true
   },
   "source": [
    "### MAX_PAYM_YM ( 최대보험료연월 ) ==> 999999"
   ]
  },
  {
   "cell_type": "code",
   "execution_count": 25,
   "metadata": {
    "collapsed": true
   },
   "outputs": [],
   "source": [
    "customer_df['MAX_PAYM_YM'].fillna(value=999999, inplace=True)"
   ]
  },
  {
   "cell_type": "markdown",
   "metadata": {},
   "source": [
    "### MAX_PRM ( 최대보험료 ) ==> 0"
   ]
  },
  {
   "cell_type": "code",
   "execution_count": 26,
   "metadata": {
    "collapsed": true
   },
   "outputs": [],
   "source": [
    "customer_df['MAX_PRM'].fillna(value=0, inplace=True)"
   ]
  },
  {
   "cell_type": "markdown",
   "metadata": {},
   "source": [
    "### CUST_INCM ( 고객추정소득 ) / JPBASE_HSHD_INCM ( 가구추정소득2 )"
   ]
  },
  {
   "cell_type": "code",
   "execution_count": 27,
   "metadata": {
    "collapsed": false
   },
   "outputs": [
    {
     "data": {
      "text/html": [
       "<div>\n",
       "<table border=\"1\" class=\"dataframe\">\n",
       "  <thead>\n",
       "    <tr style=\"text-align: right;\">\n",
       "      <th></th>\n",
       "      <th>CUST_INCM</th>\n",
       "      <th>JPBASE_HSHD_INCM</th>\n",
       "    </tr>\n",
       "    <tr>\n",
       "      <th>OCCP_GRP_1</th>\n",
       "      <th></th>\n",
       "      <th></th>\n",
       "    </tr>\n",
       "  </thead>\n",
       "  <tbody>\n",
       "    <tr>\n",
       "      <th>1.주부</th>\n",
       "      <td>0.000000</td>\n",
       "      <td>4944.122149</td>\n",
       "    </tr>\n",
       "    <tr>\n",
       "      <th>2.자영업</th>\n",
       "      <td>4621.081266</td>\n",
       "      <td>6865.929815</td>\n",
       "    </tr>\n",
       "    <tr>\n",
       "      <th>3.사무직</th>\n",
       "      <td>4319.376505</td>\n",
       "      <td>5532.882851</td>\n",
       "    </tr>\n",
       "    <tr>\n",
       "      <th>4.전문직</th>\n",
       "      <td>4173.168564</td>\n",
       "      <td>6029.196748</td>\n",
       "    </tr>\n",
       "    <tr>\n",
       "      <th>5.서비스</th>\n",
       "      <td>3949.647207</td>\n",
       "      <td>5684.830743</td>\n",
       "    </tr>\n",
       "    <tr>\n",
       "      <th>6.제조업</th>\n",
       "      <td>4181.931034</td>\n",
       "      <td>5473.449138</td>\n",
       "    </tr>\n",
       "    <tr>\n",
       "      <th>7.1차산업</th>\n",
       "      <td>4025.830601</td>\n",
       "      <td>5239.360656</td>\n",
       "    </tr>\n",
       "    <tr>\n",
       "      <th>8.기타</th>\n",
       "      <td>415.870774</td>\n",
       "      <td>4689.529677</td>\n",
       "    </tr>\n",
       "    <tr>\n",
       "      <th>9.알수없음</th>\n",
       "      <td>4169.121951</td>\n",
       "      <td>5094.439024</td>\n",
       "    </tr>\n",
       "  </tbody>\n",
       "</table>\n",
       "</div>"
      ],
      "text/plain": [
       "              CUST_INCM  JPBASE_HSHD_INCM\n",
       "OCCP_GRP_1                               \n",
       "1.주부           0.000000       4944.122149\n",
       "2.자영업       4621.081266       6865.929815\n",
       "3.사무직       4319.376505       5532.882851\n",
       "4.전문직       4173.168564       6029.196748\n",
       "5.서비스       3949.647207       5684.830743\n",
       "6.제조업       4181.931034       5473.449138\n",
       "7.1차산업      4025.830601       5239.360656\n",
       "8.기타         415.870774       4689.529677\n",
       "9.알수없음      4169.121951       5094.439024"
      ]
     },
     "execution_count": 27,
     "metadata": {},
     "output_type": "execute_result"
    }
   ],
   "source": [
    "dropna_customer_df = customer_df.dropna(subset=['CUST_INCM', 'JPBASE_HSHD_INCM'])\n",
    "\n",
    "avg_income_df = dropna_customer_df.groupby(['OCCP_GRP_1'])[['CUST_INCM', 'JPBASE_HSHD_INCM']].mean()\n",
    "avg_income_df"
   ]
  },
  {
   "cell_type": "code",
   "execution_count": 28,
   "metadata": {
    "collapsed": true
   },
   "outputs": [],
   "source": [
    "def fill_cust_incm():\n",
    "    occupation_group_list = customer_df['OCCP_GRP_1'].unique()\n",
    "    occupation_group_list.sort()\n",
    "    \n",
    "    cust_incm_list = avg_income_df['CUST_INCM']\n",
    "    \n",
    "    is_null = np.array(customer_df['CUST_INCM'].isnull())\n",
    "    \n",
    "    for number in range(0, len(occupation_group_list)):\n",
    "        is_group = np.array(customer_df['OCCP_GRP_1'] == occupation_group_list[number])\n",
    "        group_and_null = np.bitwise_and(is_null, is_group)\n",
    "        customer_df['CUST_INCM'][group_and_null] = cust_incm_list[number]"
   ]
  },
  {
   "cell_type": "code",
   "execution_count": 29,
   "metadata": {
    "collapsed": false
   },
   "outputs": [
    {
     "name": "stderr",
     "output_type": "stream",
     "text": [
      "/usr/local/lib/python3.5/dist-packages/ipykernel/__main__.py:12: SettingWithCopyWarning: \n",
      "A value is trying to be set on a copy of a slice from a DataFrame\n",
      "\n",
      "See the caveats in the documentation: http://pandas.pydata.org/pandas-docs/stable/indexing.html#indexing-view-versus-copy\n"
     ]
    }
   ],
   "source": [
    "fill_cust_incm()"
   ]
  },
  {
   "cell_type": "code",
   "execution_count": 30,
   "metadata": {
    "collapsed": true
   },
   "outputs": [],
   "source": [
    "def fill_jpbase_incm():\n",
    "    occupation_group_list = customer_df['OCCP_GRP_1'].unique()\n",
    "    occupation_group_list.sort()\n",
    "    \n",
    "    jpbase_incm_list = avg_income_df['JPBASE_HSHD_INCM']\n",
    "    \n",
    "    is_null = np.array(customer_df['JPBASE_HSHD_INCM'].isnull())\n",
    "    \n",
    "    for number in range(0, len(occupation_group_list)):\n",
    "        is_group = np.array(customer_df['OCCP_GRP_1'] == occupation_group_list[number])\n",
    "        group_and_null = np.bitwise_and(is_null, is_group)\n",
    "        customer_df['JPBASE_HSHD_INCM'][group_and_null] = jpbase_incm_list[number]"
   ]
  },
  {
   "cell_type": "code",
   "execution_count": 31,
   "metadata": {
    "collapsed": false
   },
   "outputs": [
    {
     "name": "stderr",
     "output_type": "stream",
     "text": [
      "/usr/local/lib/python3.5/dist-packages/ipykernel/__main__.py:12: SettingWithCopyWarning: \n",
      "A value is trying to be set on a copy of a slice from a DataFrame\n",
      "\n",
      "See the caveats in the documentation: http://pandas.pydata.org/pandas-docs/stable/indexing.html#indexing-view-versus-copy\n"
     ]
    }
   ],
   "source": [
    "fill_jpbase_incm()"
   ]
  },
  {
   "cell_type": "markdown",
   "metadata": {
    "collapsed": true
   },
   "source": [
    "### Save it as new file"
   ]
  },
  {
   "cell_type": "code",
   "execution_count": 32,
   "metadata": {
    "collapsed": false
   },
   "outputs": [
    {
     "data": {
      "text/plain": [
       "CUST_ID                0\n",
       "DIVIDED_SET            0\n",
       "SIU_CUST_YN         1793\n",
       "SEX                    0\n",
       "AGE                    0\n",
       "RESI_COST              0\n",
       "RESI_TYPE_CODE         0\n",
       "FP_CAREER              0\n",
       "CUST_RGST              0\n",
       "CTPR                   0\n",
       "OCCP_GRP_1             0\n",
       "OCCP_GRP_2             0\n",
       "TOTALPREM              0\n",
       "MINCRDT                0\n",
       "MAXCRDT                0\n",
       "WEDD_YN                0\n",
       "MATE_OCCP_GRP_1        0\n",
       "MATE_OCCP_GRP_2        0\n",
       "CHLD_CNT               0\n",
       "LTBN_CHLD_AGE          0\n",
       "MAX_PAYM_YM            0\n",
       "MAX_PRM                0\n",
       "CUST_INCM              0\n",
       "RCBASE_HSHD_INCM       0\n",
       "JPBASE_HSHD_INCM       0\n",
       "dtype: int64"
      ]
     },
     "execution_count": 32,
     "metadata": {},
     "output_type": "execute_result"
    }
   ],
   "source": [
    "len(customer_df) - customer_df.count()"
   ]
  },
  {
   "cell_type": "code",
   "execution_count": 33,
   "metadata": {
    "collapsed": true
   },
   "outputs": [],
   "source": [
    "customer_df.to_csv('./Data/CUST_DATA_PREPROCESSED.csv', encoding='utf-16')"
   ]
  },
  {
   "cell_type": "code",
   "execution_count": null,
   "metadata": {
    "collapsed": true
   },
   "outputs": [],
   "source": []
  }
 ],
 "metadata": {
  "kernelspec": {
   "display_name": "Python 3",
   "language": "python",
   "name": "python3"
  },
  "language_info": {
   "codemirror_mode": {
    "name": "ipython",
    "version": 3
   },
   "file_extension": ".py",
   "mimetype": "text/x-python",
   "name": "python",
   "nbconvert_exporter": "python",
   "pygments_lexer": "ipython3",
   "version": "3.5.1+"
  }
 },
 "nbformat": 4,
 "nbformat_minor": 0
}
