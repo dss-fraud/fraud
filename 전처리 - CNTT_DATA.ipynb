{
 "cells": [
  {
   "cell_type": "markdown",
   "metadata": {},
   "source": [
    "# CNTT_DATA"
   ]
  },
  {
   "cell_type": "code",
   "execution_count": 1,
   "metadata": {
    "collapsed": true
   },
   "outputs": [],
   "source": [
    "# Import packages\n",
    "import pandas as pd\n",
    "import numpy as np"
   ]
  },
  {
   "cell_type": "code",
   "execution_count": 2,
   "metadata": {
    "collapsed": true
   },
   "outputs": [],
   "source": [
    "# Load data\n",
    "contract_df = pd.read_csv('./Data/BGCON_CNTT_DATA.csv', encoding='utf-16')"
   ]
  },
  {
   "cell_type": "markdown",
   "metadata": {},
   "source": [
    "## Nan 처리"
   ]
  },
  {
   "cell_type": "code",
   "execution_count": 3,
   "metadata": {
    "collapsed": false
   },
   "outputs": [
    {
     "data": {
      "text/plain": [
       "POLY_NO               0\n",
       "CUST_ID               0\n",
       "CUST_ROLE             0\n",
       "IRKD_CODE_DTAL        0\n",
       "IRKD_CODE_ITEM        0\n",
       "GOOD_CLSF_CDNM        0\n",
       "CNTT_YM               0\n",
       "CLLT_FP_PRNO         82\n",
       "REAL_PAYM_TERM        0\n",
       "SALE_CHNL_CODE        0\n",
       "CNTT_STAT_CODE       82\n",
       "EXPR_YM              82\n",
       "EXTN_YM           54217\n",
       "LAPS_YM           91629\n",
       "PAYM_CYCL_CODE       82\n",
       "MAIN_INSR_AMT        82\n",
       "SUM_ORIG_PREM        82\n",
       "RECP_PUBL            84\n",
       "CNTT_RECP            84\n",
       "MNTH_INCM_AMT        82\n",
       "DISTANCE          10556\n",
       "dtype: int64"
      ]
     },
     "execution_count": 3,
     "metadata": {},
     "output_type": "execute_result"
    }
   ],
   "source": [
    "# 데이터 탐색\n",
    "len(contract_df) - contract_df.count()"
   ]
  },
  {
   "cell_type": "markdown",
   "metadata": {},
   "source": [
    "### CLLT_FP_PRNO ( FP사번 ) ==> 999999 (알수없음)"
   ]
  },
  {
   "cell_type": "code",
   "execution_count": 10,
   "metadata": {
    "collapsed": false
   },
   "outputs": [
    {
     "data": {
      "text/html": [
       "<div>\n",
       "<table border=\"1\" class=\"dataframe\">\n",
       "  <thead>\n",
       "    <tr style=\"text-align: right;\">\n",
       "      <th></th>\n",
       "      <th>POLY_NO</th>\n",
       "      <th>CUST_ID</th>\n",
       "      <th>CUST_ROLE</th>\n",
       "      <th>IRKD_CODE_DTAL</th>\n",
       "      <th>IRKD_CODE_ITEM</th>\n",
       "      <th>GOOD_CLSF_CDNM</th>\n",
       "      <th>CNTT_YM</th>\n",
       "      <th>CLLT_FP_PRNO</th>\n",
       "      <th>REAL_PAYM_TERM</th>\n",
       "      <th>SALE_CHNL_CODE</th>\n",
       "      <th>...</th>\n",
       "      <th>EXPR_YM</th>\n",
       "      <th>EXTN_YM</th>\n",
       "      <th>LAPS_YM</th>\n",
       "      <th>PAYM_CYCL_CODE</th>\n",
       "      <th>MAIN_INSR_AMT</th>\n",
       "      <th>SUM_ORIG_PREM</th>\n",
       "      <th>RECP_PUBL</th>\n",
       "      <th>CNTT_RECP</th>\n",
       "      <th>MNTH_INCM_AMT</th>\n",
       "      <th>DISTANCE</th>\n",
       "    </tr>\n",
       "  </thead>\n",
       "  <tbody>\n",
       "  </tbody>\n",
       "</table>\n",
       "<p>0 rows × 21 columns</p>\n",
       "</div>"
      ],
      "text/plain": [
       "Empty DataFrame\n",
       "Columns: [POLY_NO, CUST_ID, CUST_ROLE, IRKD_CODE_DTAL, IRKD_CODE_ITEM, GOOD_CLSF_CDNM, CNTT_YM, CLLT_FP_PRNO, REAL_PAYM_TERM, SALE_CHNL_CODE, CNTT_STAT_CODE, EXPR_YM, EXTN_YM, LAPS_YM, PAYM_CYCL_CODE, MAIN_INSR_AMT, SUM_ORIG_PREM, RECP_PUBL, CNTT_RECP, MNTH_INCM_AMT, DISTANCE]\n",
       "Index: []\n",
       "\n",
       "[0 rows x 21 columns]"
      ]
     },
     "execution_count": 10,
     "metadata": {},
     "output_type": "execute_result"
    }
   ],
   "source": [
    "is_unknown = contract_df['CLLT_FP_PRNO'] == 999999\n",
    "contract_df[is_unknown]"
   ]
  },
  {
   "cell_type": "code",
   "execution_count": 11,
   "metadata": {
    "collapsed": true
   },
   "outputs": [],
   "source": [
    "contract_df['CLLT_FP_PRNO'].fillna(value=999999, inplace=True)"
   ]
  },
  {
   "cell_type": "markdown",
   "metadata": {},
   "source": [
    "### CNTT_STAT_CODE ( 계약상태코드 ) ==> 999999 (알수없음)"
   ]
  },
  {
   "cell_type": "code",
   "execution_count": 12,
   "metadata": {
    "collapsed": true
   },
   "outputs": [],
   "source": [
    "contract_df['CNTT_STAT_CODE'].fillna(value=999999, inplace=True)"
   ]
  },
  {
   "cell_type": "markdown",
   "metadata": {},
   "source": [
    "### EXPR_YM ( 만기년월 ) ==> 999999 (알수없음)"
   ]
  },
  {
   "cell_type": "code",
   "execution_count": 14,
   "metadata": {
    "collapsed": true
   },
   "outputs": [],
   "source": [
    "contract_df['EXPR_YM'].fillna(value=999999, inplace=True)"
   ]
  },
  {
   "cell_type": "markdown",
   "metadata": {},
   "source": [
    "### EXTN_YM ( 소멸년월 ) ==> 999999 (소멸된적없음)"
   ]
  },
  {
   "cell_type": "code",
   "execution_count": 15,
   "metadata": {
    "collapsed": true
   },
   "outputs": [],
   "source": [
    "contract_df['EXTN_YM'].fillna(value=999999, inplace=True)"
   ]
  },
  {
   "cell_type": "markdown",
   "metadata": {},
   "source": [
    "### LAPS_YM ( 실효년월 ) ==> 999999 (실효된적없음)"
   ]
  },
  {
   "cell_type": "code",
   "execution_count": 16,
   "metadata": {
    "collapsed": true
   },
   "outputs": [],
   "source": [
    "contract_df['LAPS_YM'].fillna(value=999999, inplace=True)"
   ]
  },
  {
   "cell_type": "markdown",
   "metadata": {},
   "source": [
    "### PAYM_CYCL_CODE ( 납입주기코드 ) ==> 99 (알수없음)"
   ]
  },
  {
   "cell_type": "code",
   "execution_count": 17,
   "metadata": {
    "collapsed": true
   },
   "outputs": [],
   "source": [
    "contract_df['PAYM_CYCL_CODE'].fillna(value=99, inplace=True)"
   ]
  },
  {
   "cell_type": "markdown",
   "metadata": {},
   "source": [
    "### MAIN_INSR_AMT ( 주보험금 ) ==> 0"
   ]
  },
  {
   "cell_type": "code",
   "execution_count": 19,
   "metadata": {
    "collapsed": false
   },
   "outputs": [],
   "source": [
    "contract_df['MAIN_INSR_AMT'].fillna(value=0, inplace=True)"
   ]
  },
  {
   "cell_type": "markdown",
   "metadata": {},
   "source": [
    "### SUM_ORIG_PREM ( 합계보험금 ) ==> 0"
   ]
  },
  {
   "cell_type": "code",
   "execution_count": 20,
   "metadata": {
    "collapsed": true
   },
   "outputs": [],
   "source": [
    "contract_df['SUM_ORIG_PREM'].fillna(value=0, inplace=True)"
   ]
  },
  {
   "cell_type": "markdown",
   "metadata": {},
   "source": [
    "### RECP_PUBL ( 청약서발행_접수소요일 ) ==> 999999 ( 알수없음 )"
   ]
  },
  {
   "cell_type": "code",
   "execution_count": 21,
   "metadata": {
    "collapsed": false
   },
   "outputs": [
    {
     "data": {
      "text/plain": [
       "array([   0.,   22.,    3.,    1.,    8.,    7.,   29.,    6.,   16.,\n",
       "          4.,   15.,    9.,    2.,    5.,   10.,   12.,   18.,   14.,\n",
       "         11.,   13.,   30.,   17.,   28.,   19.,   40.,   67.,   26.,\n",
       "         24.,   20.,   21.,   nan,   25.,   68.,   46.,   62.,   44.,\n",
       "         27.,   23.,   32.,   33.,   36.,   38.,   31.,   73.,   66.,\n",
       "         39.,   42.,   58.,   47.,   49.,   53.,   57.,   37.,   60.,\n",
       "         45.,   51.,   52.,   35.,   41.,   72.,   65.,   78.,   43.,\n",
       "         61.,   59.,   -1.,   90.,  362.,  363.,   34.])"
      ]
     },
     "execution_count": 21,
     "metadata": {},
     "output_type": "execute_result"
    }
   ],
   "source": [
    "contract_df['RECP_PUBL'].unique()"
   ]
  },
  {
   "cell_type": "code",
   "execution_count": 22,
   "metadata": {
    "collapsed": true
   },
   "outputs": [],
   "source": [
    "contract_df['RECP_PUBL'].fillna(value=999999, inplace=True)"
   ]
  },
  {
   "cell_type": "markdown",
   "metadata": {},
   "source": [
    "### CNTT_RECP ( 청약서접수_계약소요일 ) ==> 999999 (알수없음)"
   ]
  },
  {
   "cell_type": "code",
   "execution_count": 23,
   "metadata": {
    "collapsed": true
   },
   "outputs": [],
   "source": [
    "contract_df['CNTT_RECP'].fillna(value=999999, inplace=True)"
   ]
  },
  {
   "cell_type": "markdown",
   "metadata": {},
   "source": [
    "### MNTH_INCM_AMT ( 청약서 소득 ) ==> 999999999 (알수없음)"
   ]
  },
  {
   "cell_type": "code",
   "execution_count": 26,
   "metadata": {
    "collapsed": false
   },
   "outputs": [
    {
     "data": {
      "text/plain": [
       "350000000.0"
      ]
     },
     "execution_count": 26,
     "metadata": {},
     "output_type": "execute_result"
    }
   ],
   "source": [
    "contract_df['MNTH_INCM_AMT'].max()"
   ]
  },
  {
   "cell_type": "code",
   "execution_count": 27,
   "metadata": {
    "collapsed": true
   },
   "outputs": [],
   "source": [
    "contract_df['MNTH_INCM_AMT'].fillna(value=999999999, inplace=True)"
   ]
  },
  {
   "cell_type": "markdown",
   "metadata": {},
   "source": [
    "### DISTANCE ( FP와 고객의거리 ) ==> 9999 (알수없음)"
   ]
  },
  {
   "cell_type": "code",
   "execution_count": 29,
   "metadata": {
    "collapsed": false
   },
   "outputs": [
    {
     "data": {
      "text/plain": [
       "747.0"
      ]
     },
     "execution_count": 29,
     "metadata": {},
     "output_type": "execute_result"
    }
   ],
   "source": [
    "contract_df['DISTANCE'].max()"
   ]
  },
  {
   "cell_type": "code",
   "execution_count": 30,
   "metadata": {
    "collapsed": true
   },
   "outputs": [],
   "source": [
    "contract_df['DISTANCE'].fillna(value=9999, inplace=True)"
   ]
  },
  {
   "cell_type": "markdown",
   "metadata": {},
   "source": [
    "### Save it as new file"
   ]
  },
  {
   "cell_type": "code",
   "execution_count": 31,
   "metadata": {
    "collapsed": false
   },
   "outputs": [
    {
     "data": {
      "text/plain": [
       "POLY_NO           0\n",
       "CUST_ID           0\n",
       "CUST_ROLE         0\n",
       "IRKD_CODE_DTAL    0\n",
       "IRKD_CODE_ITEM    0\n",
       "GOOD_CLSF_CDNM    0\n",
       "CNTT_YM           0\n",
       "CLLT_FP_PRNO      0\n",
       "REAL_PAYM_TERM    0\n",
       "SALE_CHNL_CODE    0\n",
       "CNTT_STAT_CODE    0\n",
       "EXPR_YM           0\n",
       "EXTN_YM           0\n",
       "LAPS_YM           0\n",
       "PAYM_CYCL_CODE    0\n",
       "MAIN_INSR_AMT     0\n",
       "SUM_ORIG_PREM     0\n",
       "RECP_PUBL         0\n",
       "CNTT_RECP         0\n",
       "MNTH_INCM_AMT     0\n",
       "DISTANCE          0\n",
       "dtype: int64"
      ]
     },
     "execution_count": 31,
     "metadata": {},
     "output_type": "execute_result"
    }
   ],
   "source": [
    "len(contract_df) - contract_df.count()"
   ]
  },
  {
   "cell_type": "code",
   "execution_count": 32,
   "metadata": {
    "collapsed": true
   },
   "outputs": [],
   "source": [
    "contract_df.to_csv('./Data/CNTT_DATA_PREPROCESSED.csv', encoding='utf-16')"
   ]
  },
  {
   "cell_type": "code",
   "execution_count": null,
   "metadata": {
    "collapsed": true
   },
   "outputs": [],
   "source": []
  }
 ],
 "metadata": {
  "kernelspec": {
   "display_name": "Python 3",
   "language": "python",
   "name": "python3"
  },
  "language_info": {
   "codemirror_mode": {
    "name": "ipython",
    "version": 3
   },
   "file_extension": ".py",
   "mimetype": "text/x-python",
   "name": "python",
   "nbconvert_exporter": "python",
   "pygments_lexer": "ipython3",
   "version": "3.5.1+"
  }
 },
 "nbformat": 4,
 "nbformat_minor": 0
}
