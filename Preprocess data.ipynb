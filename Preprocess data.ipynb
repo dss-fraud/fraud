{
 "cells": [
  {
   "cell_type": "markdown",
   "metadata": {},
   "source": [
    "## Nan 처리하기\n",
    "\n",
    "- Nan 을 처리할때, 결국 중요시 되는 feature들은 보험사기자들이 어떤 feature를 가지고 있는지 체크해봐야함. 일반고객의 수 > 보험사기자 수 이기 때문에 ==> 일반고객들의 null값을 살펴보기보다는 보험사기자들의 null값들이 어떻게 되어있는지 살펴본 후, 어떻게 빈칸을 처리할 것인지 판단하려고 함."
   ]
  },
  {
   "cell_type": "code",
   "execution_count": 25,
   "metadata": {
    "collapsed": true
   },
   "outputs": [],
   "source": [
    "import pandas as pd\n",
    "import glob\n",
    "import numpy as np"
   ]
  },
  {
   "cell_type": "code",
   "execution_count": 41,
   "metadata": {
    "collapsed": true
   },
   "outputs": [],
   "source": [
    "merged_df_except_family = pd.read_csv('./Data/merged_df_except_family.csv', encoding='utf-16')"
   ]
  },
  {
   "cell_type": "markdown",
   "metadata": {},
   "source": [
    "### 전처리 대상 Columns"
   ]
  },
  {
   "cell_type": "code",
   "execution_count": 42,
   "metadata": {
    "collapsed": false
   },
   "outputs": [
    {
     "name": "stdout",
     "output_type": "stream",
     "text": [
      "< 전처리 대상 컬럼 리스트 >\n",
      "['SIU_CUST_YN', 'RESI_TYPE_CODE', 'CUST_RGST', 'CTPR', 'OCCP_GRP_1', 'OCCP_GRP_2', 'TOTALPREM', 'MINCRDT', 'MAXCRDT', 'WEDD_YN', 'MATE_OCCP_GRP_1', 'MATE_OCCP_GRP_2', 'CHLD_CNT', 'LTBN_CHLD_AGE', 'MAX_PAYM_YM', 'MAX_PRM', 'CUST_INCM', 'JPBASE_HSHD_INCM', 'EXTN_YM', 'LAPS_YM', 'DISTANCE', 'ACCI_OCCP_GRP1', 'ACCI_OCCP_GRP2', 'HOSP_OTPA_STDT', 'HOSP_OTPA_ENDT', 'HOUSE_HOSP_DIST', 'HOSP_CODE', 'ACCI_HOSP_ADDR', 'HOSP_SPEC_DVSN', 'PAYM_DATE', 'SELF_CHAM', 'NON_PAY', 'TAMT_SFCA', 'PATT_CHRG_TOTA', 'DSCT_AMT', 'COUNT_TRMT_ITEM', 'DCAF_CMPS_XCPA', 'BEFO_JOB', 'EDGB']\n",
      " \n",
      "< 전처리 대상 컬럼 수 >\n",
      "39\n"
     ]
    }
   ],
   "source": [
    "# Null 값이 포함된 Column 찾기\n",
    "columns = merged_df_except_family.columns\n",
    "null_in_columns = []\n",
    "for column in columns:\n",
    "    result = merged_df_except_family[column].isnull().any()\n",
    "    if result == True:\n",
    "        null_in_columns.append(column)\n",
    "print(\"< 전처리 대상 컬럼 리스트 >\")\n",
    "print(null_in_columns)\n",
    "print(\" \")\n",
    "print(\"< 전처리 대상 컬럼 수 >\")\n",
    "print(len(null_in_columns))"
   ]
  },
  {
   "cell_type": "markdown",
   "metadata": {},
   "source": [
    "### target 값을 제외한 38개의 컬럼\n",
    "* SIU_CUST_YN : 보험사기자 구분 (X)\n",
    "* RESI_TYPE_CODE : 주택유형 ==> 주택가격이 0이면 null ==> 없음으로 처리가능\n",
    "* CUST_RGST : 고객등록일\n",
    "* CTPR : 거주 주소\n",
    "* OCCP_GRP_1 : 직업분류코드1 ==> 실업자의 경우 직업이 없을 수 있음\n",
    "* OCCP_GRP_2 : 직업분류코드2 ==> 위와 동일\n",
    "* TOTALPREM : 납입총보험료\n",
    "* MINCRDT : 최소신용등급 ==> 미확인시 6등급 ==> 6등급으로 처리\n",
    "* MAXCRDT : 최대신용등급 ==> 미확인시 6등급 ==> 6등급으로 처리\n",
    "* WEDD_YN : 결혼여부\n",
    "* MATE_OCCP_GRP_1 : 배우자직업코드1 ==> 결혼을 하지 않았으면 null\n",
    "* MATE_OCCP_GRP_2 : 배우자직업코드2 ==> 위와동일\n",
    "* CHLD_CNT : 자녀수 \n",
    "* LTBN_CHLD_AGE : 막내자녀연령\n",
    "* MAX_PAYM_YM : 최대보험료연월\n",
    "* MAX_PRM : 최대보험료\n",
    "* CUST_INCM : 고객의 추정소득\n",
    "* JPBASE_HSHD_INCM : 가구의 추정소득2\n",
    "* EXTN_YM : 소멸년월 (없으면 null) ==> 이건 어떻게 처리?\n",
    "* LAPS_YM : 실효년월 (없으면 null) ==> 이건 어떻게 처리?\n",
    "* DISTANCE : FP와 고객거주지의 거리 ==> 거주주소가 없으므로 거리도 나오지 않음\n",
    "* ACCI_OCCP_GRP1 : 직업그룹코드1\n",
    "* ACCI_OCCP_GRP2 : 직업그룹코드2\n",
    "* HOSP_OTPA_STDT : 입원/통원시작일자\n",
    "* HOSP_OTPA_ENDT : 입원/통원종료일자\n",
    "* HOUSE_HOSP_DIST : 고객 거주지와 병원까지 거리\n",
    "* HOSP_CODE : 병원코드\n",
    "* ACCI_HOSP_ADDR : 병원지역(시도)\n",
    "* HOSP_SPEC_DVSN : 병원종별구분\n",
    "* PAYM_DATE : 지급일자\n",
    "* SELF_CHAM : 본인부담금\n",
    "* NON_PAY : 비급여\n",
    "* TAMT_SFCA : 전액본인부담금\n",
    "* PATT_CHRG_TOTA : 환자부담총액\n",
    "* DSCT_AMT : 병원에서 할인해준 금액\n",
    "* COUNT_TRMT_ITEM : 진료과목갯수\n",
    "* DCAF_CMPS_XCPA : 실손상품에서 보상제외금액을 의미\n",
    "* BEFO_JOB : FP 입사전 직업\n",
    "* EDGB : FP 학력\n",
    "\n",
    "* \"#\" 값의경우 정확한 내용을 알 수 없음으로 해석하면 됨"
   ]
  },
  {
   "cell_type": "code",
   "execution_count": 10,
   "metadata": {
    "collapsed": false
   },
   "outputs": [],
   "source": [
    "# \"#\" 값이 포함된 column 찾기\n",
    "sharp_in_column = ['ETRS_YM', 'FIRE_YM', 'EDGB', 'CAUS_CODE_DTAL']\n",
    "# merged_df_except_family['CAUS_CODE_DTAL'].str.contains('#').any()"
   ]
  },
  {
   "cell_type": "markdown",
   "metadata": {},
   "source": [
    "* CAUS_CODE_DTAL : 원인코드상세\n",
    "* ETRS_YM : FP 입사년월\n",
    "* FIRE_YM : FP 퇴사년월\n",
    "* EDGB : FP 학력\n",
    "    - '#' 값 = '정확히 알수없음'을 의미"
   ]
  },
  {
   "cell_type": "markdown",
   "metadata": {},
   "source": [
    "## How to deal with Null in column"
   ]
  },
  {
   "cell_type": "code",
   "execution_count": 24,
   "metadata": {
    "collapsed": false
   },
   "outputs": [
    {
     "data": {
      "text/plain": [
       "array([ 20.,  13.,  99.,  30.,  nan,  11.,  40.,  12.,  50.,  60.,  70.])"
      ]
     },
     "execution_count": 24,
     "metadata": {},
     "output_type": "execute_result"
    }
   ],
   "source": [
    "# 'RESI_TYPE_CODE' : 주택유형 ( C )\n",
    "# nan => 주택없음 (10) 으로 처리\n",
    "merged_df_except_family['RESI_TYPE_CODE'].unique()"
   ]
  },
  {
   "cell_type": "code",
   "execution_count": 21,
   "metadata": {
    "collapsed": false
   },
   "outputs": [
    {
     "data": {
      "text/plain": [
       "array([ 20.,  13.,  99.,  30.,  10.,  11.,  40.,  12.,  50.,  60.,  70.])"
      ]
     },
     "execution_count": 21,
     "metadata": {},
     "output_type": "execute_result"
    }
   ],
   "source": [
    "merged_df_except_family['RESI_TYPE_CODE'].fillna(value=10, inplace=True)\n",
    "merged_df_except_family['RESI_TYPE_CODE'].unique()"
   ]
  },
  {
   "cell_type": "code",
   "execution_count": 32,
   "metadata": {
    "collapsed": false
   },
   "outputs": [
    {
     "data": {
      "text/plain": [
       "(373,)"
      ]
     },
     "execution_count": 32,
     "metadata": {},
     "output_type": "execute_result"
    }
   ],
   "source": [
    "# 'CUST_RGST' : 고객등록일 ( C )\n",
    "# nan => '#' 으로 처리\n",
    "merged_df_except_family['CUST_RGST'].unique().shape"
   ]
  },
  {
   "cell_type": "code",
   "execution_count": 27,
   "metadata": {
    "collapsed": false
   },
   "outputs": [
    {
     "data": {
      "text/plain": [
       "(3550,)"
      ]
     },
     "execution_count": 27,
     "metadata": {},
     "output_type": "execute_result"
    }
   ],
   "source": [
    "merged_df_except_family['CUST_RGST'].fillna(value='#', inplace=True)\n",
    "is_sharp = merged_df_except_family['CUST_RGST'] == '#'\n",
    "merged_df_except_family[is_sharp]['CUST_RGST'].shape"
   ]
  },
  {
   "cell_type": "code",
   "execution_count": 39,
   "metadata": {
    "collapsed": false
   },
   "outputs": [
    {
     "data": {
      "text/plain": [
       "(18,)"
      ]
     },
     "execution_count": 39,
     "metadata": {},
     "output_type": "execute_result"
    }
   ],
   "source": [
    "# 'CTPR' : 시도구분 ( C )\n",
    "# nan => '#' 으로 처리\n",
    "merged_df_except_family['CTPR'].unique().shape"
   ]
  },
  {
   "cell_type": "code",
   "execution_count": 28,
   "metadata": {
    "collapsed": false
   },
   "outputs": [
    {
     "data": {
      "text/plain": [
       "array(['충북', '서울', '부산', '광주', '충남', '강원', '경남', '전북', '#', '경기', '경북',\n",
       "       '인천', '대전', '전남', '울산', '대구', '제주', '세종'], dtype=object)"
      ]
     },
     "execution_count": 28,
     "metadata": {},
     "output_type": "execute_result"
    }
   ],
   "source": [
    "merged_df_except_family['CTPR'].fillna(value='#', inplace=True)\n",
    "merged_df_except_family['CTPR'].unique()"
   ]
  },
  {
   "cell_type": "code",
   "execution_count": 75,
   "metadata": {
    "collapsed": false
   },
   "outputs": [
    {
     "name": "stdout",
     "output_type": "stream",
     "text": [
      "(9,) (26,)\n"
     ]
    }
   ],
   "source": [
    "# 'OCCP_GRP_1' : 직업분류코드1 ( C )\n",
    "# 'OCCP_GRP_2' : 직업분류코드2 ( C )\n",
    "# nan이 있는 경우 ==> 코드1 과 코드2가 모두 비어있음 ==> 실업자(0. 실업자)로 처리\n",
    "grp_1 = merged_df_except_family['OCCP_GRP_1'].unique().shape\n",
    "grp_2 = merged_df_except_family['OCCP_GRP_2'].unique().shape\n",
    "print(grp_1, grp_2)"
   ]
  },
  {
   "cell_type": "code",
   "execution_count": 41,
   "metadata": {
    "collapsed": false
   },
   "outputs": [
    {
     "name": "stdout",
     "output_type": "stream",
     "text": [
      "['3.사무직' '4.전문직' '8.기타' '0.실업자' '5.서비스' '2.자영업' '1.주부' '6.제조업' '7.1차산업'] ['사무직' '의료직 종사자' '전문직' '고소득 전문직' '학생' '실업자' '2차산업 종사자' '3차산업 종사자' '고위 공무원'\n",
      " '예체능계 종사자' '주부' '자영업' '공무원' '교사' '학자/연구직' '교육관련직' '기타' '기업/단체 임원' '단순 사무직'\n",
      " '대학교수/강사' '운전직' '단순 노무직' '1차산업 종사자' '종교인/역술인' '고소득의료직' '법무직 종사자']\n"
     ]
    }
   ],
   "source": [
    "merged_df_except_family['OCCP_GRP_1'].fillna(value='0.해당없음', inplace=True)\n",
    "merged_df_except_family['OCCP_GRP_2'].fillna(value='해당없음', inplace=True)\n",
    "grp_1 = merged_df_except_family['OCCP_GRP_1'].unique()\n",
    "grp_2 = merged_df_except_family['OCCP_GRP_2'].unique()\n",
    "print(grp_1, grp_2)"
   ]
  },
  {
   "cell_type": "markdown",
   "metadata": {},
   "source": [
    "#### Not now"
   ]
  },
  {
   "cell_type": "code",
   "execution_count": 34,
   "metadata": {
    "collapsed": true
   },
   "outputs": [],
   "source": [
    "# 'TOTALPREM' : 납입총보험료 ( N )\n",
    "# nan => drop 하는게 낫지 않을까 or 직업코드에 따른 평균치를 넣어볼까?\n",
    "\n",
    "# < Workflow >\n",
    "# 1. grp1 or grp2 가 같은 사람들끼리 납입총보험료를 구하여 평균을 구함\n",
    "# 2. 같은 직업코드인 사람중에 nan 이 있는경우 평균값을 집어넣어라."
   ]
  },
  {
   "cell_type": "code",
   "execution_count": 49,
   "metadata": {
    "collapsed": false
   },
   "outputs": [
    {
     "name": "stdout",
     "output_type": "stream",
     "text": [
      "(14,) (14,)\n"
     ]
    }
   ],
   "source": [
    "# 'MINCRDT' : 최소신용등급 ( C )\n",
    "# 'MAXCRDT' : 최대신용등급 ( C )\n",
    "# nan => '6' 등급으로 처리\n",
    "mincrdt = merged_df_except_family['MINCRDT'].unique().shape\n",
    "maxcrdt = merged_df_except_family['MAXCRDT'].unique().shape\n",
    "print(mincrdt, maxcrdt)"
   ]
  },
  {
   "cell_type": "code",
   "execution_count": 37,
   "metadata": {
    "collapsed": false
   },
   "outputs": [
    {
     "name": "stdout",
     "output_type": "stream",
     "text": [
      "[  6.   1.   2.   3.  10.   8.   5.   4.   7.   0.   9.  99.  28.] [  6.  99.  10.   8.   4.   2.   7.   9.   0.   3.  28.   1.   5.]\n"
     ]
    }
   ],
   "source": [
    "merged_df_except_family['MINCRDT'].fillna(value=6, inplace=True)\n",
    "merged_df_except_family['MAXCRDT'].fillna(value=6, inplace=True)\n",
    "\n",
    "mincrdt = merged_df_except_family['MINCRDT'].unique()\n",
    "maxcrdt = merged_df_except_family['MAXCRDT'].unique()\n",
    "print(mincrdt, maxcrdt)\n",
    "# 여기서 99 나 28같은경우도 미확인된것이므로 6으로 처리하면 될까?"
   ]
  },
  {
   "cell_type": "code",
   "execution_count": 50,
   "metadata": {
    "collapsed": false
   },
   "outputs": [
    {
     "data": {
      "text/plain": [
       "array(['Y', 'N', nan], dtype=object)"
      ]
     },
     "execution_count": 50,
     "metadata": {},
     "output_type": "execute_result"
    }
   ],
   "source": [
    "# WEDD_YN : 결혼여부 ( C )\n",
    "# nan => '#' 으로 처리\n",
    "merged_df_except_family['WEDD_YN'].unique()"
   ]
  },
  {
   "cell_type": "code",
   "execution_count": 38,
   "metadata": {
    "collapsed": false
   },
   "outputs": [
    {
     "data": {
      "text/plain": [
       "array(['Y', 'N', '#'], dtype=object)"
      ]
     },
     "execution_count": 38,
     "metadata": {},
     "output_type": "execute_result"
    }
   ],
   "source": [
    "merged_df_except_family['WEDD_YN'].fillna(value='#', inplace=True)\n",
    "merged_df_except_family['WEDD_YN'].unique()"
   ]
  },
  {
   "cell_type": "markdown",
   "metadata": {},
   "source": [
    "#### Not now"
   ]
  },
  {
   "cell_type": "code",
   "execution_count": 47,
   "metadata": {
    "collapsed": true
   },
   "outputs": [],
   "source": [
    "# 'MATE_OCCP_GRP_1' : 배우자직업코드1 ( C )\n",
    "# 'MATE_OCCP_GRP_2' : 배우자직업코드2 ( C )\n",
    "# nan => if wedd_yn = N -> 결혼을 하지 않은 사람 ( 0.해당없음 ) / \n",
    "#                     # -> 알수없음 ( # )\n",
    "\n",
    "# if merged_df_except_family['WEDD_YN'] == 'N':\n",
    "#     merged_df_except_family['MATE_OCCP_GRP_1'].fillna(value='0.해당없음')\n",
    "#     merged_df_except_family['MATE_OCCP_GRP_2'].fillna(value='해당없음')\n",
    "\n",
    "# if merged_df_except_family['WEDD_YN'] == '#':\n",
    "#     merged_df_except_family['MATE_OCCP_GRP_1'].fillna(value='#')\n",
    "#     merged_df_except_family['MATE_OCCP_GRP_2'].fillna(value='#')"
   ]
  },
  {
   "cell_type": "code",
   "execution_count": 7,
   "metadata": {
    "collapsed": false
   },
   "outputs": [
    {
     "name": "stdout",
     "output_type": "stream",
     "text": [
      "[ 2.  1.  0.  3.  4.  5.  6.]\n",
      "[ 13.  17.   9.  23.  14.  10.   0.   5.  21.   6.  20.   4.  19.  34.  31.\n",
      "  26.  32.  15.  11.  nan   8.  35.  12.  28.  29.  22.  18.  24.  16.  27.\n",
      "  25.   3.  30.  33.   7.   2.   1.]\n"
     ]
    }
   ],
   "source": [
    "# 'CHLD_CNT' : 자녀수 ( N )\n",
    "# 'LTBN_CHLD_AGE' : 막내자녀연령 ( N )\n",
    "# nan => 0 으로 처리\n",
    "chld = merged_df_except_family['CHLD_CNT'].unique()\n",
    "last_chld_age = merged_df_except_family['LTBN_CHLD_AGE'].unique()\n",
    "print(chld)\n",
    "print(last_chld_age)"
   ]
  },
  {
   "cell_type": "code",
   "execution_count": 8,
   "metadata": {
    "collapsed": false
   },
   "outputs": [
    {
     "data": {
      "text/plain": [
       "array([ 2.,  1.,  0.,  3.,  4.,  5.,  6.])"
      ]
     },
     "execution_count": 8,
     "metadata": {},
     "output_type": "execute_result"
    }
   ],
   "source": [
    "merged_df_except_family['CHLD_CNT'].fillna(value=0, inplace=True)\n",
    "merged_df_except_family['CHLD_CNT'].unique()"
   ]
  },
  {
   "cell_type": "code",
   "execution_count": 10,
   "metadata": {
    "collapsed": false
   },
   "outputs": [
    {
     "data": {
      "text/plain": [
       "array([ 13.,  17.,   9.,  23.,  14.,  10.,   0.,   5.,  21.,   6.,  20.,\n",
       "         4.,  19.,  34.,  31.,  26.,  32.,  15.,  11.,   8.,  35.,  12.,\n",
       "        28.,  29.,  22.,  18.,  24.,  16.,  27.,  25.,   3.,  30.,  33.,\n",
       "         7.,   2.,   1.])"
      ]
     },
     "execution_count": 10,
     "metadata": {},
     "output_type": "execute_result"
    }
   ],
   "source": [
    "merged_df_except_family['LTBN_CHLD_AGE'].fillna(value=0, inplace=True)\n",
    "merged_df_except_family['LTBN_CHLD_AGE'].unique()"
   ]
  },
  {
   "cell_type": "code",
   "execution_count": 55,
   "metadata": {
    "collapsed": true
   },
   "outputs": [],
   "source": [
    "# 'MAX_PAYM_YM' : 최대보험료연월 ( C )\n",
    "# nan => '#' 으로 처리"
   ]
  },
  {
   "cell_type": "markdown",
   "metadata": {},
   "source": [
    "#### Not now"
   ]
  },
  {
   "cell_type": "code",
   "execution_count": 57,
   "metadata": {
    "collapsed": false
   },
   "outputs": [],
   "source": [
    "# 'MAX_PRM' : 최대보험료 ( N )\n",
    "# nan => 직업코드에 따른 평균값으로 처리하면 어떨지...?\n",
    "# 약 30% 정도가 비어있음 (16000 / 22500)"
   ]
  },
  {
   "cell_type": "markdown",
   "metadata": {},
   "source": [
    "#### Not now"
   ]
  },
  {
   "cell_type": "code",
   "execution_count": 58,
   "metadata": {
    "collapsed": true
   },
   "outputs": [],
   "source": [
    "# 'CUST_INCM' : 고객의 추정소득 ( N )\n",
    "# nan => 연령/직업/보험료수준 에 따른 평균값?"
   ]
  },
  {
   "cell_type": "markdown",
   "metadata": {},
   "source": [
    "#### Not now"
   ]
  },
  {
   "cell_type": "code",
   "execution_count": 60,
   "metadata": {
    "collapsed": true
   },
   "outputs": [],
   "source": [
    "# 'JPBASE_HSHD_INCM : 가구의 추정소득2 ( N )\n",
    "# nan => 직업 및 납입보험료 수준 에 따른 ...?"
   ]
  },
  {
   "cell_type": "code",
   "execution_count": 62,
   "metadata": {
    "collapsed": false
   },
   "outputs": [],
   "source": [
    "# 'EXTN_YM' : 소멸년월 ( C )\n",
    "# 'LAPS_YM' : 실효년월 ( C )\n",
    "# nan => 소멸/실효 된적이 없으면 null ==> 해당없음(999999) 으로 처리"
   ]
  },
  {
   "cell_type": "markdown",
   "metadata": {},
   "source": [
    "#### Not now"
   ]
  },
  {
   "cell_type": "code",
   "execution_count": 69,
   "metadata": {
    "collapsed": false
   },
   "outputs": [],
   "source": [
    "# 'DISTANCE' : FP와 고객거주지의 거리 ( N )\n",
    "# nan => 이건 어떻게 처리해야할까...? \n",
    "# merged_df_except_family['DISTANCE']"
   ]
  },
  {
   "cell_type": "code",
   "execution_count": 63,
   "metadata": {
    "collapsed": true
   },
   "outputs": [],
   "source": [
    "# 'ACCI_OCCP_GRP1' : 직업그룹코드1 ( C )\n",
    "# 'ACCI_OCCP_GRP2' : 직업그룹코드2 ( C )\n",
    "# => 2개의 feature는 삭제 예정 ( 이유 : 직업분류코드와 중복 )"
   ]
  },
  {
   "cell_type": "markdown",
   "metadata": {},
   "source": [
    "#### Not now"
   ]
  },
  {
   "cell_type": "code",
   "execution_count": 66,
   "metadata": {
    "collapsed": false
   },
   "outputs": [
    {
     "data": {
      "text/plain": [
       "(3824,)"
      ]
     },
     "execution_count": 66,
     "metadata": {},
     "output_type": "execute_result"
    }
   ],
   "source": [
    "# 'HOSP_OTPA_STDT' : 입원/통원시작일자 ( C )\n",
    "# 'HOSP_OTPA_ENDT' : 입원/통원종료일자 ( C )\n",
    "# nan => '#' 으로 처리\n",
    "# 그런데, 일자를 class 로 받게 되는것이 과연 실효성이 있을지 의문이 든다.\n",
    "merged_df_except_family['HOSP_OTPA_STDT'].unique().shape"
   ]
  },
  {
   "cell_type": "markdown",
   "metadata": {},
   "source": [
    "#### Not now"
   ]
  },
  {
   "cell_type": "code",
   "execution_count": 70,
   "metadata": {
    "collapsed": true
   },
   "outputs": [],
   "source": [
    "# 'HOUSE_HOSP_DIST' : 고객 거주지와 병원까지 거리 ( N )\n",
    "# nan => 이건 어떻게 처리해야할까...? "
   ]
  },
  {
   "cell_type": "code",
   "execution_count": 72,
   "metadata": {
    "collapsed": false
   },
   "outputs": [
    {
     "data": {
      "text/plain": [
       "(12535,)"
      ]
     },
     "execution_count": 72,
     "metadata": {},
     "output_type": "execute_result"
    }
   ],
   "source": [
    "# 'HOSP_CODE' : 병원코드 ( C )\n",
    "# nan => # 으로 처리\n",
    "merged_df_except_family['HOSP_CODE'].unique().shape"
   ]
  },
  {
   "cell_type": "code",
   "execution_count": 73,
   "metadata": {
    "collapsed": true
   },
   "outputs": [],
   "source": [
    "# 'ACCI_HOSP_ADDR' : 병원지역(시도) ( C )\n",
    "# nan => # 으로 처리"
   ]
  },
  {
   "cell_type": "code",
   "execution_count": 74,
   "metadata": {
    "collapsed": true
   },
   "outputs": [],
   "source": [
    "# 'HOSP_SPEC_DVSN' : 병원종별구분 ( C )\n",
    "# nan => # 으로 처리"
   ]
  },
  {
   "cell_type": "markdown",
   "metadata": {},
   "source": [
    "#### Not now"
   ]
  },
  {
   "cell_type": "code",
   "execution_count": 77,
   "metadata": {
    "collapsed": false
   },
   "outputs": [],
   "source": [
    "# 'PAYM_DATE' : 지급일자 ( C )\n",
    "# nan => 이건 어떻게 처리할까??\n",
    "# merged_df_except_family['PAYM_DATE']"
   ]
  },
  {
   "cell_type": "code",
   "execution_count": 80,
   "metadata": {
    "collapsed": true
   },
   "outputs": [],
   "source": [
    "# 'SELF_CHAM' : 본인부담금 ( N )\n",
    "# 'NON_PAY' : 비급여 ( N )\n",
    "# 'TAMT_SFCA' : 전액본인부담금 ( N )\n",
    "# PATT_CHRG_TOTA : 환자부담총액 ( N )\n",
    "# DSCT_AMT : 병원에서 할인해준 금액 ( N )\n",
    "# COUNT_TRMT_ITEM : 진료과목갯수 ( N )\n",
    "# DCAF_CMPS_XCPA : 실손상품에서 보상제외금액을 의미 ( N )\n",
    "# if 실손처리여부 == N -> 모두 0 으로 처리하자."
   ]
  },
  {
   "cell_type": "code",
   "execution_count": 1,
   "metadata": {
    "collapsed": true
   },
   "outputs": [],
   "source": [
    "# 'BEFO_JOB' : FP 입사전 직업 ( C )\n",
    "# 'EDFB' : FP 학력 ( C )\n",
    "# nan => # 으로 처리하자."
   ]
  },
  {
   "cell_type": "code",
   "execution_count": 27,
   "metadata": {
    "collapsed": true
   },
   "outputs": [],
   "source": [
    "def print_columns_containing_null(dataframe):\n",
    "    columns = dataframe.columns\n",
    "    null_in_columns = []\n",
    "    for column in columns:\n",
    "        result = dataframe[column].isnull().any()\n",
    "        if result == True:\n",
    "            null_in_columns.append(column)\n",
    "    print(\"< 전처리 대상 컬럼 리스트 >\")\n",
    "    print(null_in_columns)\n",
    "    print(\" \")\n",
    "    print(\"< 전처리 대상 컬럼 수 >\")\n",
    "    print(len(null_in_columns))"
   ]
  },
  {
   "cell_type": "code",
   "execution_count": 47,
   "metadata": {
    "collapsed": false
   },
   "outputs": [],
   "source": [
    "# target_columns_list = [\n",
    "#     'RESI_TYPE_CODE', 'CUST_RGST', 'CTPR', 'OCCP_GRP_1', 'OCCP_GRP_2',\n",
    "#     'MINCRDT', 'MAXCRDT', 'WEDD_YN', 'MATE_OCCP_GRP_1', 'MATE_OCCP_GRP_2',\n",
    "#     'CHLD_CNT', 'LTBN_CHLD_AGE', 'MAX_PAYM_YM', 'MAX_PRM', 'CUST_INCM',\n",
    "#     'JPBASE_HSHD_INCM', 'EXTN_YM', 'LAPS_YM', 'DISTANCE', 'ACCI_OCCP_GRP1',\n",
    "#     'ACCI_OCCP_GRP2', 'HOSP_OTPA_STDT', 'HOSP_OTPA_ENDT', 'HOUSE_HOSP_DIST',\n",
    "#     'HOSP_CODE', 'ACCI_HOSP_ADDR', 'HOSP_SPEC_DVSN', 'PAYM_DATE',\n",
    "#     'SELF_CHAM', 'NON_PAY', 'TAMT_SFCA', 'PATT_CHRG_TOTA', 'DSCT_AMT',\n",
    "#     'COUNT_TRMT_ITEM', 'DCAF_CMPS_XCPA', 'BEFO_JOB', 'EDGB'\n",
    "# ]\n",
    "\n",
    "for column in null_in_columns:\n",
    "    target_values = merged_df_except_family[column]\n",
    "    \n",
    "    if column == 'RESI_TYPE_CODE': # 주택유형(C)\n",
    "        target_values.fillna(value=10, inplace=True) # 주택없음(10)\n",
    "    \n",
    "    if column == 'CUST_RGST': # 고객등록일(C)\n",
    "        target_values.fillna(value='#', inplace=True)\n",
    "        \n",
    "    if column == 'CTPR': # 시도구분(C)\n",
    "        target_values.fillna(value='#', inplace=True)\n",
    "        \n",
    "    if column == 'OCCP_GRP_1': # 직업분류코드1(C)\n",
    "        target_values.fillna(value='0.없음', inplace=True)\n",
    "        \n",
    "    if column == 'OCCP_GRP_2': # 직업분류코드2(C)\n",
    "        target_values.fillna(value='없음', inplace=True)\n",
    "        \n",
    "    if column == 'TOTALPREM': # 납입총보험료(N)\n",
    "        pass\n",
    "    \n",
    "    if column == 'MINCRDT' or 'MAXCRDT': # 최소/최대신용등급(C)\n",
    "        target_values.fillna(value=6, inplace=True)\n",
    "    \n",
    "    if column == 'WEDD_YN': # 결혼여부(C)\n",
    "        target_values.fillna(value='#', inplace=True)\n",
    "        \n",
    "    if column == 'MATE_OCCP_GRP_1' or 'MATE_OCCP_GRP2': # 배우자직업코드(C)\n",
    "        pass\n",
    "    \n",
    "    if column == 'CHLD_CNT' or 'LTBN_CHLD_AGE': # 자녀수(N)/막내자녀연령(N)\n",
    "        pass\n",
    "    \n",
    "    if column == 'MAX_PAYM_YM': # 최대보험료연월(C)\n",
    "        target_values.fillna(value='#', inplace=True)\n",
    "        \n",
    "    if column == 'MAX_PRM': # 최대보험료(N)\n",
    "        pass\n",
    "    \n",
    "    if column == 'CUST_INCM': # 고객추정소득(N)\n",
    "        pass\n",
    "    \n",
    "    if column == 'JPBASE_HSHD_INCM': # 가구추정소득2(N)\n",
    "        pass\n",
    "    \n",
    "    if column == 'EXTN_YM' or 'LAPS_YM': # 소멸/실효년월(C)\n",
    "        target_values.fillna(value=999999, inplace=True)\n",
    "        \n",
    "    if column == 'DISTANCE': # FP와 고객거주지간 거리(N)\n",
    "        pass\n",
    "    \n",
    "    if column == 'ACCI_OCCP_GRP1' or 'ACCI_OCCP_GRP2': # 직업그룹코드(C)\n",
    "        pass\n",
    "    \n",
    "    if column == 'HOSP_OTPA_STDT' or 'HOSP_OTPA_ENDT': # 입원/통원시작/종료일자(C)\n",
    "        pass\n",
    "    \n",
    "    if column == 'HOUSE_HOSP_DIST': # 병원과 고객거주지간 거리(N)\n",
    "        pass\n",
    "    \n",
    "    if column == 'HOSP_CODE': # 병원코드(C)\n",
    "        target_values.fillna(value='#', inplace=True)\n",
    "        \n",
    "    if column == 'ACCI_HOSP_ADDR': # 병원지역(시도)(C)\n",
    "        target_values.fillna(value='#', inplace=True)\n",
    "        \n",
    "    if column == 'HOSP_SPEC_DVSN': # 병원종별구분(C)\n",
    "        target_values.fillna(value='#', inplace=True)\n",
    "        \n",
    "    if column == 'PAYM_DATE': # 지급일자(C)\n",
    "        pass\n",
    "    \n",
    "    if column == 'SELF_CHAM' or 'NON_PAY' or 'TAMT_SFCA' or \\\n",
    "            'TAMT_SFCA' or 'DSCT_AMT' or 'COUNT_TRMT_ITEM' or 'DCAF_CMPS_XCPA':\n",
    "        pass \n",
    "    \n",
    "    if column == 'BEFO_JOB' or 'EDGB': # FP입사전직업(C)/FP학력(C)\n",
    "        target_values.fillna(value='#', inplace=True)"
   ]
  },
  {
   "cell_type": "code",
   "execution_count": 48,
   "metadata": {
    "collapsed": false
   },
   "outputs": [
    {
     "name": "stdout",
     "output_type": "stream",
     "text": [
      "< 전처리 대상 컬럼 리스트 >\n",
      "[]\n",
      " \n",
      "< 전처리 대상 컬럼 수 >\n",
      "0\n"
     ]
    }
   ],
   "source": [
    "print_columns_containing_null(merged_df_except_family)"
   ]
  },
  {
   "cell_type": "code",
   "execution_count": 45,
   "metadata": {
    "collapsed": false
   },
   "outputs": [
    {
     "data": {
      "text/plain": [
       "False"
      ]
     },
     "execution_count": 45,
     "metadata": {},
     "output_type": "execute_result"
    }
   ],
   "source": [
    "merged_df_except_family['SELF_CHAM'].isnull().any()"
   ]
  },
  {
   "cell_type": "code",
   "execution_count": 46,
   "metadata": {
    "collapsed": true
   },
   "outputs": [],
   "source": [
    "merged_df_except_family.to_csv('./check.csv', encoding='utf-16')"
   ]
  },
  {
   "cell_type": "code",
   "execution_count": null,
   "metadata": {
    "collapsed": true
   },
   "outputs": [],
   "source": []
  }
 ],
 "metadata": {
  "kernelspec": {
   "display_name": "Python 3",
   "language": "python",
   "name": "python3"
  },
  "language_info": {
   "codemirror_mode": {
    "name": "ipython",
    "version": 3
   },
   "file_extension": ".py",
   "mimetype": "text/x-python",
   "name": "python",
   "nbconvert_exporter": "python",
   "pygments_lexer": "ipython3",
   "version": "3.5.1+"
  }
 },
 "nbformat": 4,
 "nbformat_minor": 0
}
