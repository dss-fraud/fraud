{
 "cells": [
  {
   "cell_type": "markdown",
   "metadata": {},
   "source": [
    "## Nan 처리하기\n",
    "\n",
    "- Nan 을 처리할때, 결국 중요시 되는 feature들은 보험사기자들이 어떤 feature를 가지고 있는지 체크해봐야함. 일반고객의 수 > 보험사기자 수 이기 때문에 ==> 일반고객들의 null값을 살펴보기보다는 보험사기자들의 null값들이 어떻게 되어있는지 살펴본 후, 어떻게 빈칸을 처리할 것인지 판단하려고 함."
   ]
  },
  {
   "cell_type": "code",
   "execution_count": 1,
   "metadata": {
    "collapsed": true
   },
   "outputs": [],
   "source": [
    "import pandas as pd\n",
    "import glob\n",
    "import numpy as np"
   ]
  },
  {
   "cell_type": "code",
   "execution_count": 2,
   "metadata": {
    "collapsed": true
   },
   "outputs": [],
   "source": [
    "merged_df_except_family = pd.read_csv('./Data/merged_df_except_family.csv', encoding='utf-16')"
   ]
  },
  {
   "cell_type": "markdown",
   "metadata": {},
   "source": [
    "### 전처리 대상 Columns"
   ]
  },
  {
   "cell_type": "code",
   "execution_count": 5,
   "metadata": {
    "collapsed": false
   },
   "outputs": [
    {
     "name": "stdout",
     "output_type": "stream",
     "text": [
      "< 전처리 대상 컬럼 리스트 >\n",
      "['SIU_CUST_YN', 'RESI_TYPE_CODE', 'CUST_RGST', 'CTPR', 'OCCP_GRP_1', 'OCCP_GRP_2', 'TOTALPREM', 'MINCRDT', 'MAXCRDT', 'WEDD_YN', 'MATE_OCCP_GRP_1', 'MATE_OCCP_GRP_2', 'CHLD_CNT', 'LTBN_CHLD_AGE', 'MAX_PAYM_YM', 'MAX_PRM', 'CUST_INCM', 'JPBASE_HSHD_INCM', 'EXTN_YM', 'LAPS_YM', 'DISTANCE', 'ACCI_OCCP_GRP1', 'ACCI_OCCP_GRP2', 'HOSP_OTPA_STDT', 'HOSP_OTPA_ENDT', 'HOUSE_HOSP_DIST', 'HOSP_CODE', 'ACCI_HOSP_ADDR', 'HOSP_SPEC_DVSN', 'PAYM_DATE', 'SELF_CHAM', 'NON_PAY', 'TAMT_SFCA', 'PATT_CHRG_TOTA', 'DSCT_AMT', 'COUNT_TRMT_ITEM', 'DCAF_CMPS_XCPA', 'BEFO_JOB', 'EDGB']\n",
      " \n",
      "< 전처리 대상 컬럼 수 >\n",
      "39\n"
     ]
    }
   ],
   "source": [
    "# Null 값이 포함된 Column 찾기\n",
    "columns = merged_df_except_family.columns\n",
    "null_in_columns = []\n",
    "for column in columns:\n",
    "    result = merged_df_except_family[column].isnull().any()\n",
    "    if result == True:\n",
    "        null_in_columns.append(column)\n",
    "print(\"< 전처리 대상 컬럼 리스트 >\")\n",
    "print(null_in_columns)\n",
    "print(\" \")\n",
    "print(\"< 전처리 대상 컬럼 수 >\")\n",
    "print(len(null_in_columns))"
   ]
  },
  {
   "cell_type": "markdown",
   "metadata": {},
   "source": [
    "### target 값을 제외한 38개의 컬럼\n",
    "* SIU_CUST_YN : 보험사기자 구분 (X)\n",
    "* RESI_TYPE_CODE : 주택유형 ==> 주택가격이 0이면 null ==> 없음으로 처리가능\n",
    "* CUST_RGST : 고객등록일\n",
    "* CTPR : 거주 주소\n",
    "* OCCP_GRP_1 : 직업분류코드1 ==> 실업자의 경우 직업이 없을 수 있음\n",
    "* OCCP_GRP_2 : 직업분류코드2 ==> 위와 동일\n",
    "* TOTALPREM : 납입총보험료\n",
    "* MINCRDT : 최소신용등급 ==> 미확인시 6등급 ==> 6등급으로 처리\n",
    "* MAXCRDT : 최대신용등급 ==> 미확인시 6등급 ==> 6등급으로 처리\n",
    "* WEDD_YN : 결혼여부\n",
    "* MATE_OCCP_GRP_1 : 배우자직업코드1 ==> 결혼을 하지 않았으면 null\n",
    "* MATE_OCCP_GRP_2 : 배우자직업코드2 ==> 위와동일\n",
    "* CHLD_CNT : 자녀수 \n",
    "* LTBN_CHLD_AGE : 막내자녀연령\n",
    "* MAX_PAYM_YM : 최대보험료연월\n",
    "* MAX_PRM : 최대보험료\n",
    "* CUST_INCM : 고객의 추정소득\n",
    "* JPBASE_HSHD_INCM : 가구의 추정소득2\n",
    "* EXTN_YM : 소멸년월 (없으면 null) ==> 이건 어떻게 처리?\n",
    "* LAPS_YM : 실효년월 (없으면 null) ==> 이건 어떻게 처리?\n",
    "* DISTANCE : FP와 고객거주지의 거리 ==> 거주주소가 없으므로 거리도 나오지 않음\n",
    "* ACCI_OCCP_GRP1 : 직업그룹코드1\n",
    "* ACCI_OCCP_GRP2 : 직업그룹코드2\n",
    "* HOSP_OTPA_STDT : 입원/통원시작일자\n",
    "* HOSP_OTPA_ENDT : 입원/통원종료일자\n",
    "* HOUSE_HOSP_DIST : 고객 거주지와 병원까지 거리\n",
    "* HOSP_CODE : 병원코드\n",
    "* ACCI_HOSP_ADDR : 병원지역(시도)\n",
    "* HOSP_SPEC_DVSN : 병원종별구분\n",
    "* PAYM_DATE : 지급일자\n",
    "* SELF_CHAM : 본인부담금\n",
    "* NON_PAY : 비급여\n",
    "* TAMT_SFCA : 전액본인부담금\n",
    "* PATT_CHRG_TOTA : 환자부담총액\n",
    "* DSCT_AMT : 병원에서 할인해준 금액\n",
    "* COUNT_TRMT_ITEM : 진료과목갯수\n",
    "* DCAF_CMPS_XCPA : 실손상품에서 보상제외금액을 의미\n",
    "* BEFO_JOB : FP 입사전 직업\n",
    "* EDGB : FP 학력\n",
    "\n",
    "* \"#\" 값의경우 정확한 내용을 알 수 없음으로 해석하면 됨"
   ]
  },
  {
   "cell_type": "code",
   "execution_count": null,
   "metadata": {
    "collapsed": true
   },
   "outputs": [],
   "source": []
  }
 ],
 "metadata": {
  "kernelspec": {
   "display_name": "Python 3",
   "language": "python",
   "name": "python3"
  },
  "language_info": {
   "codemirror_mode": {
    "name": "ipython",
    "version": 3
   },
   "file_extension": ".py",
   "mimetype": "text/x-python",
   "name": "python",
   "nbconvert_exporter": "python",
   "pygments_lexer": "ipython3",
   "version": "3.5.1+"
  }
 },
 "nbformat": 4,
 "nbformat_minor": 0
}
