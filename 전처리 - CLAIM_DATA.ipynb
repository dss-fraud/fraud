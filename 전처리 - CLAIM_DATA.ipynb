{
 "cells": [
  {
   "cell_type": "markdown",
   "metadata": {},
   "source": [
    "# CLAIM_DATA"
   ]
  },
  {
   "cell_type": "code",
   "execution_count": 1,
   "metadata": {
    "collapsed": true
   },
   "outputs": [],
   "source": [
    "# Import packages\n",
    "import pandas as pd\n",
    "import numpy as np"
   ]
  },
  {
   "cell_type": "code",
   "execution_count": 2,
   "metadata": {
    "collapsed": true
   },
   "outputs": [],
   "source": [
    "# Load data\n",
    "claim_df = pd.read_csv('./Data/BGCON_CLAIM_DATA.csv', encoding='utf-16')"
   ]
  },
  {
   "cell_type": "markdown",
   "metadata": {},
   "source": [
    "## Nan 처리"
   ]
  },
  {
   "cell_type": "code",
   "execution_count": 3,
   "metadata": {
    "collapsed": false
   },
   "outputs": [
    {
     "data": {
      "text/plain": [
       "CUST_ID                 0\n",
       "POLY_NO                 0\n",
       "ACCI_OCCP_GRP1       1417\n",
       "ACCI_OCCP_GRP2       1417\n",
       "CHANG_FP_YN             0\n",
       "CNTT_RECP_SQNO          0\n",
       "RECP_DATE               0\n",
       "ORIG_RESN_DATE          0\n",
       "RESN_DATE               0\n",
       "CRNT_PROG_DVSN          0\n",
       "ACCI_DVSN               0\n",
       "CAUS_CODE               0\n",
       "CAUS_CODE_DTAL          0\n",
       "DSAS_NAME               0\n",
       "DMND_RESN_CODE          0\n",
       "DMND_RSCD_SQNO          0\n",
       "HOSP_OTPA_STDT      32571\n",
       "HOSP_OTPA_ENDT      32571\n",
       "RESL_CD1                0\n",
       "RESL_NM1                0\n",
       "VLID_HOSP_OTDA          0\n",
       "HOUSE_HOSP_DIST     17048\n",
       "HOSP_CODE               9\n",
       "ACCI_HOSP_ADDR      10070\n",
       "HOSP_SPEC_DVSN          9\n",
       "CHME_LICE_NO            0\n",
       "PAYM_DATE              13\n",
       "DMND_AMT                0\n",
       "PAYM_AMT                0\n",
       "PMMI_DLNG_YN            0\n",
       "SELF_CHAM          100053\n",
       "NON_PAY            100053\n",
       "TAMT_SFCA          100053\n",
       "PATT_CHRG_TOTA     100053\n",
       "DSCT_AMT           100053\n",
       "COUNT_TRMT_ITEM    100053\n",
       "DCAF_CMPS_XCPA     110963\n",
       "NON_PAY_RATIO           0\n",
       "HEED_HOSP_YN            0\n",
       "dtype: int64"
      ]
     },
     "execution_count": 3,
     "metadata": {},
     "output_type": "execute_result"
    }
   ],
   "source": [
    "# 데이터탐색\n",
    "len(claim_df) - claim_df.count()"
   ]
  },
  {
   "cell_type": "markdown",
   "metadata": {},
   "source": [
    "### ACCI_OCCP_GRP1 / 2 ( 직업그룹코드1 / 2 ) ==> 9. 알수없음 / 알수없음\n",
    "* CUST_DATA ['OCCP_GRP'] 참고"
   ]
  },
  {
   "cell_type": "code",
   "execution_count": 36,
   "metadata": {
    "collapsed": true
   },
   "outputs": [],
   "source": [
    "customer_df = pd.read_csv('./Data/CUST_DATA_PREPROCESSED.csv', encoding='utf-16')"
   ]
  },
  {
   "cell_type": "code",
   "execution_count": 37,
   "metadata": {
    "collapsed": true
   },
   "outputs": [],
   "source": [
    "merged_df = claim_df.merge(customer_df, on='CUST_ID')"
   ]
  },
  {
   "cell_type": "code",
   "execution_count": 39,
   "metadata": {
    "collapsed": false
   },
   "outputs": [
    {
     "name": "stderr",
     "output_type": "stream",
     "text": [
      "/usr/local/lib/python3.5/dist-packages/ipykernel/__main__.py:6: SettingWithCopyWarning: \n",
      "A value is trying to be set on a copy of a slice from a DataFrame\n",
      "\n",
      "See the caveats in the documentation: http://pandas.pydata.org/pandas-docs/stable/indexing.html#indexing-view-versus-copy\n"
     ]
    }
   ],
   "source": [
    "is_null_in_acci = np.array(merged_df['ACCI_OCCP_GRP1'].isnull())\n",
    "is_null_in_occp = np.array(merged_df['OCCP_GRP_1'].isnull())\n",
    "\n",
    "is_unknown = np.bitwise_and(is_null_in_acci, is_null_in_occp)\n",
    "\n",
    "merged_df['ACCI_OCCP_GRP1'][is_unknown] = '9.알수없음'"
   ]
  },
  {
   "cell_type": "code",
   "execution_count": 40,
   "metadata": {
    "collapsed": false
   },
   "outputs": [
    {
     "name": "stderr",
     "output_type": "stream",
     "text": [
      "/usr/local/lib/python3.5/dist-packages/ipykernel/__main__.py:6: SettingWithCopyWarning: \n",
      "A value is trying to be set on a copy of a slice from a DataFrame\n",
      "\n",
      "See the caveats in the documentation: http://pandas.pydata.org/pandas-docs/stable/indexing.html#indexing-view-versus-copy\n"
     ]
    }
   ],
   "source": [
    "is_null_in_acci = np.array(merged_df['ACCI_OCCP_GRP2'].isnull())\n",
    "is_null_in_occp = np.array(merged_df['OCCP_GRP_2'].isnull())\n",
    "\n",
    "is_unknown = np.bitwise_and(is_null_in_acci, is_null_in_occp)\n",
    "\n",
    "merged_df['ACCI_OCCP_GRP2'][is_unknown] = '알수없음'"
   ]
  },
  {
   "cell_type": "code",
   "execution_count": 42,
   "metadata": {
    "collapsed": false
   },
   "outputs": [
    {
     "name": "stderr",
     "output_type": "stream",
     "text": [
      "/usr/local/lib/python3.5/dist-packages/ipykernel/__main__.py:6: SettingWithCopyWarning: \n",
      "A value is trying to be set on a copy of a slice from a DataFrame\n",
      "\n",
      "See the caveats in the documentation: http://pandas.pydata.org/pandas-docs/stable/indexing.html#indexing-view-versus-copy\n"
     ]
    }
   ],
   "source": [
    "is_null_in_acci = np.array(merged_df['ACCI_OCCP_GRP1'].isnull())\n",
    "is_null_in_occp = np.array(merged_df['OCCP_GRP_1'].isnull())\n",
    "\n",
    "is_unknown_but_having_first_work_groups = np.bitwise_and(is_null_in_acci, ~is_null_in_occp)\n",
    "\n",
    "merged_df['ACCI_OCCP_GRP1'][is_unknown_but_having_first_work_groups] = merged_df['OCCP_GRP_1'][is_unknown_but_having_first_work_groups]"
   ]
  },
  {
   "cell_type": "code",
   "execution_count": 43,
   "metadata": {
    "collapsed": false
   },
   "outputs": [
    {
     "name": "stderr",
     "output_type": "stream",
     "text": [
      "/usr/local/lib/python3.5/dist-packages/ipykernel/__main__.py:6: SettingWithCopyWarning: \n",
      "A value is trying to be set on a copy of a slice from a DataFrame\n",
      "\n",
      "See the caveats in the documentation: http://pandas.pydata.org/pandas-docs/stable/indexing.html#indexing-view-versus-copy\n"
     ]
    }
   ],
   "source": [
    "is_null_in_acci = np.array(merged_df['ACCI_OCCP_GRP2'].isnull())\n",
    "is_null_in_occp = np.array(merged_df['OCCP_GRP_2'].isnull())\n",
    "\n",
    "is_unknown_but_having_first_work_groups = np.bitwise_and(is_null_in_acci, ~is_null_in_occp)\n",
    "\n",
    "merged_df['ACCI_OCCP_GRP2'][is_unknown_but_having_first_work_groups] = merged_df['OCCP_GRP_2'][is_unknown_but_having_first_work_groups]"
   ]
  },
  {
   "cell_type": "code",
   "execution_count": 46,
   "metadata": {
    "collapsed": false
   },
   "outputs": [],
   "source": [
    "claim_df['ACCI_OCCP_GRP1'] = merged_df['ACCI_OCCP_GRP1']"
   ]
  },
  {
   "cell_type": "code",
   "execution_count": 47,
   "metadata": {
    "collapsed": true
   },
   "outputs": [],
   "source": [
    "claim_df['ACCI_OCCP_GRP2'] = merged_df['ACCI_OCCP_GRP2']"
   ]
  },
  {
   "cell_type": "markdown",
   "metadata": {},
   "source": [
    "### HOSP_OTPA_STDT ( 입원/통원시작일자 ) ==> 99999999 (알수없음)"
   ]
  },
  {
   "cell_type": "code",
   "execution_count": 5,
   "metadata": {
    "collapsed": true
   },
   "outputs": [],
   "source": [
    "claim_df['HOSP_OTPA_STDT'].fillna(value=99999999, inplace=True)"
   ]
  },
  {
   "cell_type": "markdown",
   "metadata": {},
   "source": [
    "### HOSP_OTPA_ENDT ( 입원/ 통원종료일자 ) ==> 99999999 (알수없음)"
   ]
  },
  {
   "cell_type": "code",
   "execution_count": 6,
   "metadata": {
    "collapsed": true
   },
   "outputs": [],
   "source": [
    "claim_df['HOSP_OTPA_ENDT'].fillna(value=99999999, inplace=True)"
   ]
  },
  {
   "cell_type": "markdown",
   "metadata": {},
   "source": [
    "### HOUSE_HOSP_DIST ( 병원과 고객거주지간 거리 ) ==> 9999 (알수없음)"
   ]
  },
  {
   "cell_type": "code",
   "execution_count": 8,
   "metadata": {
    "collapsed": false
   },
   "outputs": [
    {
     "data": {
      "text/plain": [
       "528.62"
      ]
     },
     "execution_count": 8,
     "metadata": {},
     "output_type": "execute_result"
    }
   ],
   "source": [
    "claim_df['HOUSE_HOSP_DIST'].max()"
   ]
  },
  {
   "cell_type": "code",
   "execution_count": 9,
   "metadata": {
    "collapsed": true
   },
   "outputs": [],
   "source": [
    "claim_df['HOUSE_HOSP_DIST'].fillna(value=9999, inplace=True)"
   ]
  },
  {
   "cell_type": "markdown",
   "metadata": {},
   "source": [
    "### HOSP_CODE ( 병원코드 ) ==> 99999 (알수없음)"
   ]
  },
  {
   "cell_type": "code",
   "execution_count": 11,
   "metadata": {
    "collapsed": false
   },
   "outputs": [
    {
     "data": {
      "text/html": [
       "<div>\n",
       "<table border=\"1\" class=\"dataframe\">\n",
       "  <thead>\n",
       "    <tr style=\"text-align: right;\">\n",
       "      <th></th>\n",
       "      <th>CUST_ID</th>\n",
       "      <th>POLY_NO</th>\n",
       "      <th>ACCI_OCCP_GRP1</th>\n",
       "      <th>ACCI_OCCP_GRP2</th>\n",
       "      <th>CHANG_FP_YN</th>\n",
       "      <th>CNTT_RECP_SQNO</th>\n",
       "      <th>RECP_DATE</th>\n",
       "      <th>ORIG_RESN_DATE</th>\n",
       "      <th>RESN_DATE</th>\n",
       "      <th>CRNT_PROG_DVSN</th>\n",
       "      <th>...</th>\n",
       "      <th>PMMI_DLNG_YN</th>\n",
       "      <th>SELF_CHAM</th>\n",
       "      <th>NON_PAY</th>\n",
       "      <th>TAMT_SFCA</th>\n",
       "      <th>PATT_CHRG_TOTA</th>\n",
       "      <th>DSCT_AMT</th>\n",
       "      <th>COUNT_TRMT_ITEM</th>\n",
       "      <th>DCAF_CMPS_XCPA</th>\n",
       "      <th>NON_PAY_RATIO</th>\n",
       "      <th>HEED_HOSP_YN</th>\n",
       "    </tr>\n",
       "  </thead>\n",
       "  <tbody>\n",
       "  </tbody>\n",
       "</table>\n",
       "<p>0 rows × 39 columns</p>\n",
       "</div>"
      ],
      "text/plain": [
       "Empty DataFrame\n",
       "Columns: [CUST_ID, POLY_NO, ACCI_OCCP_GRP1, ACCI_OCCP_GRP2, CHANG_FP_YN, CNTT_RECP_SQNO, RECP_DATE, ORIG_RESN_DATE, RESN_DATE, CRNT_PROG_DVSN, ACCI_DVSN, CAUS_CODE, CAUS_CODE_DTAL, DSAS_NAME, DMND_RESN_CODE, DMND_RSCD_SQNO, HOSP_OTPA_STDT, HOSP_OTPA_ENDT, RESL_CD1, RESL_NM1, VLID_HOSP_OTDA, HOUSE_HOSP_DIST, HOSP_CODE, ACCI_HOSP_ADDR, HOSP_SPEC_DVSN, CHME_LICE_NO, PAYM_DATE, DMND_AMT, PAYM_AMT, PMMI_DLNG_YN, SELF_CHAM, NON_PAY, TAMT_SFCA, PATT_CHRG_TOTA, DSCT_AMT, COUNT_TRMT_ITEM, DCAF_CMPS_XCPA, NON_PAY_RATIO, HEED_HOSP_YN]\n",
       "Index: []\n",
       "\n",
       "[0 rows x 39 columns]"
      ]
     },
     "execution_count": 11,
     "metadata": {},
     "output_type": "execute_result"
    }
   ],
   "source": [
    "is_unknown = claim_df['HOSP_CODE'] == 99999\n",
    "claim_df[is_unknown]"
   ]
  },
  {
   "cell_type": "code",
   "execution_count": 12,
   "metadata": {
    "collapsed": true
   },
   "outputs": [],
   "source": [
    "claim_df['HOSP_CODE'].fillna(value=99999, inplace=True)"
   ]
  },
  {
   "cell_type": "markdown",
   "metadata": {},
   "source": [
    "### ACCI_HOSP_ADDR ( 병원지역(시도) ) ==> 알수없음"
   ]
  },
  {
   "cell_type": "code",
   "execution_count": 13,
   "metadata": {
    "collapsed": true
   },
   "outputs": [],
   "source": [
    "claim_df['ACCI_HOSP_ADDR'].fillna(value='알수없음', inplace=True)"
   ]
  },
  {
   "cell_type": "markdown",
   "metadata": {},
   "source": [
    "### HOSP_SPEC_DVSN ( 병원종별구분 ) ==> 99 (알수없음)"
   ]
  },
  {
   "cell_type": "code",
   "execution_count": 14,
   "metadata": {
    "collapsed": true
   },
   "outputs": [],
   "source": [
    "claim_df['HOSP_SPEC_DVSN'].fillna(value=99, inplace=True)"
   ]
  },
  {
   "cell_type": "markdown",
   "metadata": {},
   "source": [
    "### PAYM_DATE ( 지급일자 ) ==> 99999999 (알수없음)"
   ]
  },
  {
   "cell_type": "code",
   "execution_count": 16,
   "metadata": {
    "collapsed": false
   },
   "outputs": [],
   "source": [
    "claim_df['PAYM_DATE'].fillna(value=99999999, inplace=True)"
   ]
  },
  {
   "cell_type": "markdown",
   "metadata": {},
   "source": [
    "### SELF_CHAM / NON_PAY / TAMT_SFCA / PATT_CHRG_TOTA / DSCT_AMT / COUNT_TRMT_ITEM / DCAF_CMPS_XCPA\n",
    "* 실손처리여부가 N 인 경우, ==> 0 으로 채움"
   ]
  },
  {
   "cell_type": "code",
   "execution_count": 29,
   "metadata": {
    "collapsed": false
   },
   "outputs": [
    {
     "name": "stdout",
     "output_type": "stream",
     "text": [
      "SELF_CHAM success\n",
      "NON_PAY success\n",
      "TAMT_SFCA success\n",
      "PATT_CHRG_TOTA success\n",
      "DSCT_AMT success\n",
      "COUNT_TRMT_ITEM success\n",
      "DCAF_CMPS_XCPA success\n"
     ]
    },
    {
     "name": "stderr",
     "output_type": "stream",
     "text": [
      "/usr/local/lib/python3.5/dist-packages/ipykernel/__main__.py:11: SettingWithCopyWarning: \n",
      "A value is trying to be set on a copy of a slice from a DataFrame\n",
      "\n",
      "See the caveats in the documentation: http://pandas.pydata.org/pandas-docs/stable/indexing.html#indexing-view-versus-copy\n"
     ]
    }
   ],
   "source": [
    "target_columns = ['SELF_CHAM', 'NON_PAY', 'TAMT_SFCA', 'PATT_CHRG_TOTA', \n",
    "                  'DSCT_AMT', 'COUNT_TRMT_ITEM', 'DCAF_CMPS_XCPA']\n",
    "\n",
    "is_no = np.array(claim_df['PMMI_DLNG_YN'] == 'N')\n",
    "\n",
    "for column in target_columns:\n",
    "    is_null = np.array(claim_df[column].isnull())\n",
    "    \n",
    "    is_no_and_is_null = np.bitwise_and(is_null, is_no)\n",
    "    \n",
    "    claim_df[column][is_no_and_is_null] = 0\n",
    "    print(column + \" success\")"
   ]
  },
  {
   "cell_type": "code",
   "execution_count": 34,
   "metadata": {
    "collapsed": false
   },
   "outputs": [],
   "source": [
    "claim_df['DCAF_CMPS_XCPA'].fillna(value=0, inplace=True)"
   ]
  },
  {
   "cell_type": "markdown",
   "metadata": {},
   "source": [
    "### Save it as new file"
   ]
  },
  {
   "cell_type": "code",
   "execution_count": 48,
   "metadata": {
    "collapsed": false
   },
   "outputs": [
    {
     "data": {
      "text/plain": [
       "CUST_ID            0\n",
       "POLY_NO            0\n",
       "ACCI_OCCP_GRP1     0\n",
       "ACCI_OCCP_GRP2     0\n",
       "CHANG_FP_YN        0\n",
       "CNTT_RECP_SQNO     0\n",
       "RECP_DATE          0\n",
       "ORIG_RESN_DATE     0\n",
       "RESN_DATE          0\n",
       "CRNT_PROG_DVSN     0\n",
       "ACCI_DVSN          0\n",
       "CAUS_CODE          0\n",
       "CAUS_CODE_DTAL     0\n",
       "DSAS_NAME          0\n",
       "DMND_RESN_CODE     0\n",
       "DMND_RSCD_SQNO     0\n",
       "HOSP_OTPA_STDT     0\n",
       "HOSP_OTPA_ENDT     0\n",
       "RESL_CD1           0\n",
       "RESL_NM1           0\n",
       "VLID_HOSP_OTDA     0\n",
       "HOUSE_HOSP_DIST    0\n",
       "HOSP_CODE          0\n",
       "ACCI_HOSP_ADDR     0\n",
       "HOSP_SPEC_DVSN     0\n",
       "CHME_LICE_NO       0\n",
       "PAYM_DATE          0\n",
       "DMND_AMT           0\n",
       "PAYM_AMT           0\n",
       "PMMI_DLNG_YN       0\n",
       "SELF_CHAM          0\n",
       "NON_PAY            0\n",
       "TAMT_SFCA          0\n",
       "PATT_CHRG_TOTA     0\n",
       "DSCT_AMT           0\n",
       "COUNT_TRMT_ITEM    0\n",
       "DCAF_CMPS_XCPA     0\n",
       "NON_PAY_RATIO      0\n",
       "HEED_HOSP_YN       0\n",
       "dtype: int64"
      ]
     },
     "execution_count": 48,
     "metadata": {},
     "output_type": "execute_result"
    }
   ],
   "source": [
    "len(claim_df) - claim_df.count()"
   ]
  },
  {
   "cell_type": "code",
   "execution_count": 49,
   "metadata": {
    "collapsed": true
   },
   "outputs": [],
   "source": [
    "claim_df.to_csv('./Data/CLAIM_DATA_PREPROCESSED.csv', encoding='utf-16')"
   ]
  },
  {
   "cell_type": "code",
   "execution_count": null,
   "metadata": {
    "collapsed": true
   },
   "outputs": [],
   "source": []
  }
 ],
 "metadata": {
  "kernelspec": {
   "display_name": "Python 3",
   "language": "python",
   "name": "python3"
  },
  "language_info": {
   "codemirror_mode": {
    "name": "ipython",
    "version": 3
   },
   "file_extension": ".py",
   "mimetype": "text/x-python",
   "name": "python",
   "nbconvert_exporter": "python",
   "pygments_lexer": "ipython3",
   "version": "3.5.1+"
  }
 },
 "nbformat": 4,
 "nbformat_minor": 0
}
